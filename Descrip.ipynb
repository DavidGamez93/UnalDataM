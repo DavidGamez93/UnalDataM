{
  "nbformat": 4,
  "nbformat_minor": 0,
  "metadata": {
    "colab": {
      "name": "TRABAJO 2.ipynb",
      "provenance": [],
      "collapsed_sections": [],
      "toc_visible": true
    },
    "kernelspec": {
      "name": "python3",
      "display_name": "Python 3"
    }
  },
  "cells": [
    {
      "cell_type": "markdown",
      "metadata": {
        "id": "J8YSXVbn3m2M"
      },
      "source": [
        "## Universidad Nacional de Colombia\n",
        "# Minería de Datos\n",
        "**David Gámez**\n",
        "\n",
        "**Cristiam Castro**\n"
      ]
    },
    {
      "cell_type": "code",
      "metadata": {
        "id": "XMpa8Nwf3aKD"
      },
      "source": [
        "# Python\n",
        "import pandas as pd \n",
        "import numpy as np\n",
        "from scipy.stats import trim_mean\n",
        "from numpy import mean, absolute "
      ],
      "execution_count": null,
      "outputs": []
    },
    {
      "cell_type": "code",
      "metadata": {
        "colab": {
          "base_uri": "https://localhost:8080/"
        },
        "id": "u5MdAVrj-And",
        "outputId": "5b73abcb-25b4-4d19-b27c-f7f1d69c6c40"
      },
      "source": [
        "data =pd.read_csv('DATA_C.txt', sep=';')"
      ],
      "execution_count": null,
      "outputs": [
        {
          "output_type": "stream",
          "text": [
            "/usr/local/lib/python3.7/dist-packages/IPython/core/interactiveshell.py:2718: DtypeWarning: Columns (4) have mixed types.Specify dtype option on import or set low_memory=False.\n",
            "  interactivity=interactivity, compiler=compiler, result=result)\n"
          ],
          "name": "stderr"
        }
      ]
    },
    {
      "cell_type": "code",
      "metadata": {
        "colab": {
          "base_uri": "https://localhost:8080/"
        },
        "id": "XxTo6ZsA7iZU",
        "outputId": "89ea2291-1b71-4390-d917-20e299b647c6"
      },
      "source": [
        "print(data)"
      ],
      "execution_count": null,
      "outputs": [
        {
          "output_type": "stream",
          "text": [
            "        IdCaso  DIAH  MESH  ...  Tortura NumeroVictimasCaso             BaseOrigen\n",
            "0          113     0     0  ...        0                  1  Asesinatos Selectivos\n",
            "1          809    19     3  ...        0                  1  Asesinatos Selectivos\n",
            "2         2950    22     8  ...        0                  1  Asesinatos Selectivos\n",
            "3         4708    22     8  ...        0                  2  Asesinatos Selectivos\n",
            "4         5624    10    11  ...        0                  1  Asesinatos Selectivos\n",
            "...        ...   ...   ...  ...      ...                ...                    ...\n",
            "352781  532295     3    11  ...        1                  1       Violencia Sexual\n",
            "352782  532304     8    11  ...        4                  4       Violencia Sexual\n",
            "352783  532312    27     8  ...        4                  4       Violencia Sexual\n",
            "352784  532320    18     2  ...        0                  5       Violencia Sexual\n",
            "352785  532346    28    12  ...        5                  1       Violencia Sexual\n",
            "\n",
            "[352786 rows x 22 columns]\n"
          ],
          "name": "stdout"
        }
      ]
    },
    {
      "cell_type": "code",
      "metadata": {
        "colab": {
          "base_uri": "https://localhost:8080/",
          "height": 343
        },
        "id": "v0bOpziyFj3b",
        "outputId": "b01c1ff1-13ef-41ce-ed09-175773a0bad8"
      },
      "source": [
        "data.head()"
      ],
      "execution_count": null,
      "outputs": [
        {
          "output_type": "execute_result",
          "data": {
            "text/html": [
              "<div>\n",
              "<style scoped>\n",
              "    .dataframe tbody tr th:only-of-type {\n",
              "        vertical-align: middle;\n",
              "    }\n",
              "\n",
              "    .dataframe tbody tr th {\n",
              "        vertical-align: top;\n",
              "    }\n",
              "\n",
              "    .dataframe thead th {\n",
              "        text-align: right;\n",
              "    }\n",
              "</style>\n",
              "<table border=\"1\" class=\"dataframe\">\n",
              "  <thead>\n",
              "    <tr style=\"text-align: right;\">\n",
              "      <th></th>\n",
              "      <th>IdCaso</th>\n",
              "      <th>DIAH</th>\n",
              "      <th>MESH</th>\n",
              "      <th>ANNOH</th>\n",
              "      <th>COD_DANE_MUN</th>\n",
              "      <th>REGION</th>\n",
              "      <th>DEPTO_CASO</th>\n",
              "      <th>MUNINICIO_CASO</th>\n",
              "      <th>Modalidad</th>\n",
              "      <th>PRESUNTO_REPONSABLE</th>\n",
              "      <th>DESCRIPCION_PRESUNTO_RESPONSABLE</th>\n",
              "      <th>AbandonoDespojoForzadoTierras</th>\n",
              "      <th>AmenazaIntimidacion</th>\n",
              "      <th>AtaqueContraMisionMedica</th>\n",
              "      <th>ConfinamientoRestriccionMovilidad</th>\n",
              "      <th>DesplazamientoForzado</th>\n",
              "      <th>Extorsion</th>\n",
              "      <th>Pillaje</th>\n",
              "      <th>LesionadosCiviles</th>\n",
              "      <th>Tortura</th>\n",
              "      <th>NumeroVictimasCaso</th>\n",
              "      <th>BaseOrigen</th>\n",
              "    </tr>\n",
              "  </thead>\n",
              "  <tbody>\n",
              "    <tr>\n",
              "      <th>0</th>\n",
              "      <td>113</td>\n",
              "      <td>0</td>\n",
              "      <td>0</td>\n",
              "      <td>0</td>\n",
              "      <td>20770</td>\n",
              "      <td>MAGDALENA MEDIO</td>\n",
              "      <td>CESAR</td>\n",
              "      <td>SAN MARTÍN</td>\n",
              "      <td>Desconocida</td>\n",
              "      <td>Grupo Paramilitar</td>\n",
              "      <td>No Identificado</td>\n",
              "      <td>0</td>\n",
              "      <td>0</td>\n",
              "      <td>0</td>\n",
              "      <td>0</td>\n",
              "      <td>0</td>\n",
              "      <td>0</td>\n",
              "      <td>0</td>\n",
              "      <td>0</td>\n",
              "      <td>0</td>\n",
              "      <td>1</td>\n",
              "      <td>Asesinatos Selectivos</td>\n",
              "    </tr>\n",
              "    <tr>\n",
              "      <th>1</th>\n",
              "      <td>809</td>\n",
              "      <td>19</td>\n",
              "      <td>3</td>\n",
              "      <td>1965</td>\n",
              "      <td>19212</td>\n",
              "      <td>NORTE DEL CAUCA</td>\n",
              "      <td>CAUCA</td>\n",
              "      <td>CORINTO</td>\n",
              "      <td>Asalto</td>\n",
              "      <td>Guerrilla</td>\n",
              "      <td>FARC</td>\n",
              "      <td>0</td>\n",
              "      <td>0</td>\n",
              "      <td>0</td>\n",
              "      <td>0</td>\n",
              "      <td>0</td>\n",
              "      <td>0</td>\n",
              "      <td>0</td>\n",
              "      <td>1</td>\n",
              "      <td>0</td>\n",
              "      <td>1</td>\n",
              "      <td>Asesinatos Selectivos</td>\n",
              "    </tr>\n",
              "    <tr>\n",
              "      <th>2</th>\n",
              "      <td>2950</td>\n",
              "      <td>22</td>\n",
              "      <td>8</td>\n",
              "      <td>1987</td>\n",
              "      <td>23001</td>\n",
              "      <td>ALTO SINU Y SAN JORGE</td>\n",
              "      <td>CÓRDOBA</td>\n",
              "      <td>MONTERÍA</td>\n",
              "      <td>Falso Positivo</td>\n",
              "      <td>Agente del Estado</td>\n",
              "      <td>Ejército Nacional</td>\n",
              "      <td>0</td>\n",
              "      <td>0</td>\n",
              "      <td>0</td>\n",
              "      <td>0</td>\n",
              "      <td>0</td>\n",
              "      <td>0</td>\n",
              "      <td>0</td>\n",
              "      <td>0</td>\n",
              "      <td>0</td>\n",
              "      <td>1</td>\n",
              "      <td>Asesinatos Selectivos</td>\n",
              "    </tr>\n",
              "    <tr>\n",
              "      <th>3</th>\n",
              "      <td>4708</td>\n",
              "      <td>22</td>\n",
              "      <td>8</td>\n",
              "      <td>1990</td>\n",
              "      <td>23670</td>\n",
              "      <td>NORTE DE CORDOBA</td>\n",
              "      <td>CÓRDOBA</td>\n",
              "      <td>SAN ANDRÉS DE SOTAVENTO</td>\n",
              "      <td>Falso Positivo</td>\n",
              "      <td>Agente del Estado</td>\n",
              "      <td>Ejército Nacional</td>\n",
              "      <td>0</td>\n",
              "      <td>0</td>\n",
              "      <td>0</td>\n",
              "      <td>0</td>\n",
              "      <td>0</td>\n",
              "      <td>0</td>\n",
              "      <td>0</td>\n",
              "      <td>0</td>\n",
              "      <td>0</td>\n",
              "      <td>2</td>\n",
              "      <td>Asesinatos Selectivos</td>\n",
              "    </tr>\n",
              "    <tr>\n",
              "      <th>4</th>\n",
              "      <td>5624</td>\n",
              "      <td>10</td>\n",
              "      <td>11</td>\n",
              "      <td>1991</td>\n",
              "      <td>47189</td>\n",
              "      <td>SIERRA NEVADA DE SANTA MARTA</td>\n",
              "      <td>MAGDALENA</td>\n",
              "      <td>CIÉNAGA</td>\n",
              "      <td>Resistencia a la retención</td>\n",
              "      <td>Grupo Paramilitar</td>\n",
              "      <td>Otro</td>\n",
              "      <td>0</td>\n",
              "      <td>0</td>\n",
              "      <td>0</td>\n",
              "      <td>0</td>\n",
              "      <td>0</td>\n",
              "      <td>0</td>\n",
              "      <td>0</td>\n",
              "      <td>0</td>\n",
              "      <td>0</td>\n",
              "      <td>1</td>\n",
              "      <td>Asesinatos Selectivos</td>\n",
              "    </tr>\n",
              "  </tbody>\n",
              "</table>\n",
              "</div>"
            ],
            "text/plain": [
              "   IdCaso  DIAH  MESH  ...  Tortura NumeroVictimasCaso             BaseOrigen\n",
              "0     113     0     0  ...        0                  1  Asesinatos Selectivos\n",
              "1     809    19     3  ...        0                  1  Asesinatos Selectivos\n",
              "2    2950    22     8  ...        0                  1  Asesinatos Selectivos\n",
              "3    4708    22     8  ...        0                  2  Asesinatos Selectivos\n",
              "4    5624    10    11  ...        0                  1  Asesinatos Selectivos\n",
              "\n",
              "[5 rows x 22 columns]"
            ]
          },
          "metadata": {
            "tags": []
          },
          "execution_count": 26
        }
      ]
    },
    {
      "cell_type": "code",
      "metadata": {
        "colab": {
          "base_uri": "https://localhost:8080/"
        },
        "id": "ewvX1bLwFqTS",
        "outputId": "58feeff4-3532-4ad0-b764-747045df135e"
      },
      "source": [
        "#Python - Fecuencias\n",
        "data.groupby('BaseOrigen').size()"
      ],
      "execution_count": null,
      "outputs": [
        {
          "output_type": "execute_result",
          "data": {
            "text/plain": [
              "BaseOrigen\n",
              "Acciones Bélicas           34897\n",
              "Asesinatos Selectivos     151563\n",
              "Ataque a Poblaciones         488\n",
              "Atentados Terroristas        238\n",
              "Daños a Bienes Civiles     20870\n",
              "Desaparición Forzada       68431\n",
              "MAP MUSE                    8952\n",
              "Masacres                    4210\n",
              "RUNNA                      16894\n",
              "Secuestro                  31021\n",
              "Violencia Sexual           15222\n",
              "dtype: int64"
            ]
          },
          "metadata": {
            "tags": []
          },
          "execution_count": 33
        }
      ]
    },
    {
      "cell_type": "code",
      "metadata": {
        "colab": {
          "base_uri": "https://localhost:8080/"
        },
        "id": "X9m4bGxiGNA6",
        "outputId": "8ca5c023-6930-448c-a6ce-0bd5ef895578"
      },
      "source": [
        "#Frecuencias por porcentajes\n",
        "fp = data.groupby('DEPTO_CASO').size() / data.shape[0] \n",
        "print(fp)"
      ],
      "execution_count": null,
      "outputs": [
        {
          "output_type": "stream",
          "text": [
            "DEPTO_CASO\n",
            "AMAZONAS                                                    0.000289\n",
            "ANTIOQUIA                                                   0.274625\n",
            "ARAUCA                                                      0.026140\n",
            "ARCHIPIÉLAGO DE SAN ANDRÉS, PROVIDENCIA Y SANTA CATALINA    0.000028\n",
            "ATLÁNTICO                                                   0.007999\n",
            "BOGOTÁ, D.C.                                                0.009910\n",
            "BOLÍVAR                                                     0.032671\n",
            "BOYACÁ                                                      0.010984\n",
            "CALDAS                                                      0.018138\n",
            "CAQUETÁ                                                     0.038822\n",
            "CASANARE                                                    0.015208\n",
            "CAUCA                                                       0.036183\n",
            "CESAR                                                       0.046674\n",
            "CHOCÓ                                                       0.017521\n",
            "CUNDINAMARCA                                                0.019715\n",
            "CÓRDOBA                                                     0.024854\n",
            "EXTERIOR                                                    0.000499\n",
            "GUAINÍA                                                     0.000564\n",
            "GUAVIARE                                                    0.011506\n",
            "HUILA                                                       0.015984\n",
            "LA GUAJIRA                                                  0.014306\n",
            "MAGDALENA                                                   0.041966\n",
            "META                                                        0.049361\n",
            "NARIÑO                                                      0.031631\n",
            "NORTE DE SANTANDER                                          0.049205\n",
            "PUTUMAYO                                                    0.030276\n",
            "QUINDIO                                                     0.003308\n",
            "RISARALDA                                                   0.009836\n",
            "SANTANDER                                                   0.047700\n",
            "SIN INFORMACION                                             0.024403\n",
            "SUCRE                                                       0.014581\n",
            "TOLIMA                                                      0.028686\n",
            "VALLE DEL CAUCA                                             0.042853\n",
            "VAUPÉS                                                      0.000907\n",
            "VICHADA                                                     0.002662\n",
            "dtype: float64\n"
          ],
          "name": "stdout"
        }
      ]
    },
    {
      "cell_type": "markdown",
      "metadata": {
        "id": "i18n5nCMGc5T"
      },
      "source": [
        "Medidas de Centralidad\n"
      ]
    },
    {
      "cell_type": "markdown",
      "metadata": {
        "id": "b8G5UkPXIS5S"
      },
      "source": [
        "Media"
      ]
    },
    {
      "cell_type": "code",
      "metadata": {
        "id": "l3VlGI7hGezh"
      },
      "source": [
        "#Python Media\n",
        "data.mean(axis = 0) "
      ],
      "execution_count": null,
      "outputs": []
    },
    {
      "cell_type": "code",
      "metadata": {
        "colab": {
          "base_uri": "https://localhost:8080/"
        },
        "id": "W1KvgE_xHI51",
        "outputId": "d166c335-049c-41ca-9c59-a6f4619a57b8"
      },
      "source": [
        "#Python\n",
        "trim_mean(data['NumeroVictimasCaso'], 0.10)"
      ],
      "execution_count": null,
      "outputs": [
        {
          "output_type": "execute_result",
          "data": {
            "text/plain": [
              "1.0246607376962051"
            ]
          },
          "metadata": {
            "tags": []
          },
          "execution_count": 4
        }
      ]
    },
    {
      "cell_type": "markdown",
      "metadata": {
        "id": "cubRxj08IXRJ"
      },
      "source": [
        "Mediana"
      ]
    },
    {
      "cell_type": "code",
      "metadata": {
        "colab": {
          "base_uri": "https://localhost:8080/"
        },
        "id": "5zZ6ntp2IW04",
        "outputId": "95ebf031-782d-48ac-9d6e-32888886e277"
      },
      "source": [
        "#Python\n",
        "data.median(axis = 0) "
      ],
      "execution_count": null,
      "outputs": [
        {
          "output_type": "execute_result",
          "data": {
            "text/plain": [
              "IdCaso                               200933.5\n",
              "DIAH                                     14.0\n",
              "MESH                                      6.0\n",
              "ANNOH                                  2000.0\n",
              "AbandonoDespojoForzadoTierras             0.0\n",
              "AmenazaIntimidacion                       0.0\n",
              "AtaqueContraMisionMedica                  0.0\n",
              "ConfinamientoRestriccionMovilidad         0.0\n",
              "DesplazamientoForzado                     0.0\n",
              "Extorsion                                 0.0\n",
              "Pillaje                                   0.0\n",
              "LesionadosCiviles                         0.0\n",
              "Tortura                                   0.0\n",
              "NumeroVictimasCaso                        1.0\n",
              "dtype: float64"
            ]
          },
          "metadata": {
            "tags": []
          },
          "execution_count": 5
        }
      ]
    },
    {
      "cell_type": "markdown",
      "metadata": {
        "id": "1slV-Qy3Ioan"
      },
      "source": [
        "Percentiles"
      ]
    },
    {
      "cell_type": "code",
      "metadata": {
        "colab": {
          "base_uri": "https://localhost:8080/"
        },
        "id": "BUmqC3hfIpgf",
        "outputId": "c3eab931-3b7d-4580-bd53-b7f5eab53b10"
      },
      "source": [
        "#Python\n",
        "for i in np.arange(0, 1.01, 0.01):\n",
        "    print(i,\"%:\",data['NumeroVictimasCaso'].quantile(i))"
      ],
      "execution_count": null,
      "outputs": [
        {
          "output_type": "stream",
          "text": [
            "0.0 %: 0.0\n",
            "0.01 %: 0.0\n",
            "0.02 %: 0.0\n",
            "0.03 %: 0.0\n",
            "0.04 %: 0.0\n",
            "0.05 %: 0.0\n",
            "0.06 %: 0.0\n",
            "0.07 %: 0.0\n",
            "0.08 %: 0.0\n",
            "0.09 %: 0.0\n",
            "0.1 %: 0.0\n",
            "0.11 %: 1.0\n",
            "0.12 %: 1.0\n",
            "0.13 %: 1.0\n",
            "0.14 %: 1.0\n",
            "0.15 %: 1.0\n",
            "0.16 %: 1.0\n",
            "0.17 %: 1.0\n",
            "0.18 %: 1.0\n",
            "0.19 %: 1.0\n",
            "0.2 %: 1.0\n",
            "0.21 %: 1.0\n",
            "0.22 %: 1.0\n",
            "0.23 %: 1.0\n",
            "0.24 %: 1.0\n",
            "0.25 %: 1.0\n",
            "0.26 %: 1.0\n",
            "0.27 %: 1.0\n",
            "0.28 %: 1.0\n",
            "0.29 %: 1.0\n",
            "0.3 %: 1.0\n",
            "0.31 %: 1.0\n",
            "0.32 %: 1.0\n",
            "0.33 %: 1.0\n",
            "0.34 %: 1.0\n",
            "0.35000000000000003 %: 1.0\n",
            "0.36 %: 1.0\n",
            "0.37 %: 1.0\n",
            "0.38 %: 1.0\n",
            "0.39 %: 1.0\n",
            "0.4 %: 1.0\n",
            "0.41000000000000003 %: 1.0\n",
            "0.42 %: 1.0\n",
            "0.43 %: 1.0\n",
            "0.44 %: 1.0\n",
            "0.45 %: 1.0\n",
            "0.46 %: 1.0\n",
            "0.47000000000000003 %: 1.0\n",
            "0.48 %: 1.0\n",
            "0.49 %: 1.0\n",
            "0.5 %: 1.0\n",
            "0.51 %: 1.0\n",
            "0.52 %: 1.0\n",
            "0.53 %: 1.0\n",
            "0.54 %: 1.0\n",
            "0.55 %: 1.0\n",
            "0.56 %: 1.0\n",
            "0.5700000000000001 %: 1.0\n",
            "0.58 %: 1.0\n",
            "0.59 %: 1.0\n",
            "0.6 %: 1.0\n",
            "0.61 %: 1.0\n",
            "0.62 %: 1.0\n",
            "0.63 %: 1.0\n",
            "0.64 %: 1.0\n",
            "0.65 %: 1.0\n",
            "0.66 %: 1.0\n",
            "0.67 %: 1.0\n",
            "0.68 %: 1.0\n",
            "0.6900000000000001 %: 1.0\n",
            "0.7000000000000001 %: 1.0\n",
            "0.71 %: 1.0\n",
            "0.72 %: 1.0\n",
            "0.73 %: 1.0\n",
            "0.74 %: 1.0\n",
            "0.75 %: 1.0\n",
            "0.76 %: 1.0\n",
            "0.77 %: 1.0\n",
            "0.78 %: 1.0\n",
            "0.79 %: 1.0\n",
            "0.8 %: 1.0\n",
            "0.81 %: 1.0\n",
            "0.8200000000000001 %: 1.0\n",
            "0.8300000000000001 %: 1.0\n",
            "0.84 %: 1.0\n",
            "0.85 %: 1.0\n",
            "0.86 %: 1.0\n",
            "0.87 %: 1.0\n",
            "0.88 %: 2.0\n",
            "0.89 %: 2.0\n",
            "0.9 %: 2.0\n",
            "0.91 %: 2.0\n",
            "0.92 %: 2.0\n",
            "0.93 %: 2.0\n",
            "0.9400000000000001 %: 2.0\n",
            "0.9500000000000001 %: 3.0\n",
            "0.96 %: 3.0\n",
            "0.97 %: 3.0\n",
            "0.98 %: 4.0\n",
            "0.99 %: 6.0\n",
            "1.0 %: 200.0\n"
          ],
          "name": "stdout"
        }
      ]
    },
    {
      "cell_type": "markdown",
      "metadata": {
        "id": "QYOx0XWYI7Yx"
      },
      "source": [
        "Cuartiles"
      ]
    },
    {
      "cell_type": "code",
      "metadata": {
        "colab": {
          "base_uri": "https://localhost:8080/"
        },
        "id": "2pbfq9p1I5LR",
        "outputId": "bb627d7b-21e8-4863-871c-f96a677c77f8"
      },
      "source": [
        "for i in np.arange(0, 1.25, 0.25):\n",
        "    print(i,\"%:\",data['NumeroVictimasCaso'].quantile(i))"
      ],
      "execution_count": null,
      "outputs": [
        {
          "output_type": "stream",
          "text": [
            "0.0 %: 0.0\n",
            "0.25 %: 1.0\n",
            "0.5 %: 1.0\n",
            "0.75 %: 1.0\n",
            "1.0 %: 200.0\n"
          ],
          "name": "stdout"
        }
      ]
    },
    {
      "cell_type": "markdown",
      "metadata": {
        "id": "bhD4vIruJLRP"
      },
      "source": [
        "Medidas de dispersion"
      ]
    },
    {
      "cell_type": "markdown",
      "metadata": {
        "id": "u9G9kk8mJTox"
      },
      "source": [
        "Valor maximo y valor minimo"
      ]
    },
    {
      "cell_type": "code",
      "metadata": {
        "colab": {
          "base_uri": "https://localhost:8080/"
        },
        "id": "tRFlrLoqJK8t",
        "outputId": "db691836-085e-4240-ec9b-a98c938c66b5"
      },
      "source": [
        "#Python\n",
        "max(data['NumeroVictimasCaso']) - min(data['DesplazamientoForzado'])"
      ],
      "execution_count": null,
      "outputs": [
        {
          "output_type": "execute_result",
          "data": {
            "text/plain": [
              "200"
            ]
          },
          "metadata": {
            "tags": []
          },
          "execution_count": 9
        }
      ]
    },
    {
      "cell_type": "markdown",
      "metadata": {
        "id": "Bm20xlBNJqEF"
      },
      "source": [
        "Desviación estandar"
      ]
    },
    {
      "cell_type": "code",
      "metadata": {
        "colab": {
          "base_uri": "https://localhost:8080/"
        },
        "id": "ReqMTKX7Jrvo",
        "outputId": "f8632e0e-f808-470c-fcb5-082f9b087df9"
      },
      "source": [
        "#Python\n",
        "data['NumeroVictimasCaso'].var()"
      ],
      "execution_count": null,
      "outputs": [
        {
          "output_type": "execute_result",
          "data": {
            "text/plain": [
              "2.3663475022452913"
            ]
          },
          "metadata": {
            "tags": []
          },
          "execution_count": 11
        }
      ]
    },
    {
      "cell_type": "code",
      "metadata": {
        "colab": {
          "base_uri": "https://localhost:8080/"
        },
        "id": "wpQ8wcN4J0T8",
        "outputId": "6b0a3bea-ede9-4548-e98e-7fd4dead67c1"
      },
      "source": [
        "#Python\n",
        "data['NumeroVictimasCaso'].std()"
      ],
      "execution_count": null,
      "outputs": [
        {
          "output_type": "execute_result",
          "data": {
            "text/plain": [
              "1.5382936983051356"
            ]
          },
          "metadata": {
            "tags": []
          },
          "execution_count": 12
        }
      ]
    },
    {
      "cell_type": "markdown",
      "metadata": {
        "id": "KL0hHBibJ3Rm"
      },
      "source": [
        "Desviación media absoluta\n"
      ]
    },
    {
      "cell_type": "code",
      "metadata": {
        "id": "L1A_SxtAJ8OL"
      },
      "source": [
        "import statistics\n",
        "#Python\n",
        "def aad(x):\n",
        "   a = mean(absolute(x - statistics.median(x))) \n",
        "   return a"
      ],
      "execution_count": null,
      "outputs": []
    },
    {
      "cell_type": "code",
      "metadata": {
        "colab": {
          "base_uri": "https://localhost:8080/"
        },
        "id": "hoDWMT7wKCmT",
        "outputId": "3dc1e057-1787-42e3-d615-d77c823dba6b"
      },
      "source": [
        "#Python\n",
        "aad(data['NumeroVictimasCaso'])"
      ],
      "execution_count": null,
      "outputs": [
        {
          "output_type": "execute_result",
          "data": {
            "text/plain": [
              "0.37681483959114026"
            ]
          },
          "metadata": {
            "tags": []
          },
          "execution_count": 15
        }
      ]
    },
    {
      "cell_type": "markdown",
      "metadata": {
        "id": "LW279aS3KHmQ"
      },
      "source": [
        "Estadisticas Multivariadas"
      ]
    },
    {
      "cell_type": "code",
      "metadata": {
        "colab": {
          "base_uri": "https://localhost:8080/"
        },
        "id": "b8bTGw2TKJV0",
        "outputId": "48625bac-718a-46f6-d129-afaf85d9c8b8"
      },
      "source": [
        "# Python\n",
        "np.cov(data['NumeroVictimasCaso'], data['DesplazamientoForzado'])"
      ],
      "execution_count": null,
      "outputs": [
        {
          "output_type": "execute_result",
          "data": {
            "text/plain": [
              "array([[2.3663475 , 0.01055589],\n",
              "       [0.01055589, 0.0549603 ]])"
            ]
          },
          "metadata": {
            "tags": []
          },
          "execution_count": 16
        }
      ]
    },
    {
      "cell_type": "code",
      "metadata": {
        "colab": {
          "base_uri": "https://localhost:8080/",
          "height": 503
        },
        "id": "63WGsvVAKSTE",
        "outputId": "2789a12c-818f-4844-d4e7-773bde4aac15"
      },
      "source": [
        "# Python\n",
        "data.cov()"
      ],
      "execution_count": null,
      "outputs": [
        {
          "output_type": "execute_result",
          "data": {
            "text/html": [
              "<div>\n",
              "<style scoped>\n",
              "    .dataframe tbody tr th:only-of-type {\n",
              "        vertical-align: middle;\n",
              "    }\n",
              "\n",
              "    .dataframe tbody tr th {\n",
              "        vertical-align: top;\n",
              "    }\n",
              "\n",
              "    .dataframe thead th {\n",
              "        text-align: right;\n",
              "    }\n",
              "</style>\n",
              "<table border=\"1\" class=\"dataframe\">\n",
              "  <thead>\n",
              "    <tr style=\"text-align: right;\">\n",
              "      <th></th>\n",
              "      <th>IdCaso</th>\n",
              "      <th>DIAH</th>\n",
              "      <th>MESH</th>\n",
              "      <th>ANNOH</th>\n",
              "      <th>AbandonoDespojoForzadoTierras</th>\n",
              "      <th>AmenazaIntimidacion</th>\n",
              "      <th>AtaqueContraMisionMedica</th>\n",
              "      <th>ConfinamientoRestriccionMovilidad</th>\n",
              "      <th>DesplazamientoForzado</th>\n",
              "      <th>Extorsion</th>\n",
              "      <th>Pillaje</th>\n",
              "      <th>LesionadosCiviles</th>\n",
              "      <th>Tortura</th>\n",
              "      <th>NumeroVictimasCaso</th>\n",
              "    </tr>\n",
              "  </thead>\n",
              "  <tbody>\n",
              "    <tr>\n",
              "      <th>IdCaso</th>\n",
              "      <td>1.846033e+10</td>\n",
              "      <td>-119524.058934</td>\n",
              "      <td>-32150.579333</td>\n",
              "      <td>-7.159679e+06</td>\n",
              "      <td>569.185715</td>\n",
              "      <td>239.477828</td>\n",
              "      <td>5.007297</td>\n",
              "      <td>24.878392</td>\n",
              "      <td>784.328743</td>\n",
              "      <td>-366.408949</td>\n",
              "      <td>284.154461</td>\n",
              "      <td>-3059.596077</td>\n",
              "      <td>1671.416071</td>\n",
              "      <td>2034.035688</td>\n",
              "    </tr>\n",
              "    <tr>\n",
              "      <th>DIAH</th>\n",
              "      <td>-1.195241e+05</td>\n",
              "      <td>90.146824</td>\n",
              "      <td>6.981624</td>\n",
              "      <td>1.440601e+03</td>\n",
              "      <td>0.004809</td>\n",
              "      <td>0.084264</td>\n",
              "      <td>0.000535</td>\n",
              "      <td>0.004460</td>\n",
              "      <td>0.025745</td>\n",
              "      <td>0.019224</td>\n",
              "      <td>0.031070</td>\n",
              "      <td>0.061556</td>\n",
              "      <td>0.076070</td>\n",
              "      <td>0.117407</td>\n",
              "    </tr>\n",
              "    <tr>\n",
              "      <th>MESH</th>\n",
              "      <td>-3.215058e+04</td>\n",
              "      <td>6.981624</td>\n",
              "      <td>13.533683</td>\n",
              "      <td>6.086073e+02</td>\n",
              "      <td>0.006788</td>\n",
              "      <td>0.035443</td>\n",
              "      <td>0.000051</td>\n",
              "      <td>0.001055</td>\n",
              "      <td>0.016656</td>\n",
              "      <td>0.007031</td>\n",
              "      <td>0.010487</td>\n",
              "      <td>0.055671</td>\n",
              "      <td>0.024116</td>\n",
              "      <td>0.055171</td>\n",
              "    </tr>\n",
              "    <tr>\n",
              "      <th>ANNOH</th>\n",
              "      <td>-7.159679e+06</td>\n",
              "      <td>1440.600976</td>\n",
              "      <td>608.607283</td>\n",
              "      <td>2.042846e+05</td>\n",
              "      <td>1.806244</td>\n",
              "      <td>8.146558</td>\n",
              "      <td>0.021485</td>\n",
              "      <td>0.359178</td>\n",
              "      <td>4.933978</td>\n",
              "      <td>1.367925</td>\n",
              "      <td>2.484109</td>\n",
              "      <td>8.200121</td>\n",
              "      <td>6.328225</td>\n",
              "      <td>12.582073</td>\n",
              "    </tr>\n",
              "    <tr>\n",
              "      <th>AbandonoDespojoForzadoTierras</th>\n",
              "      <td>5.691857e+02</td>\n",
              "      <td>0.004809</td>\n",
              "      <td>0.006788</td>\n",
              "      <td>1.806244e+00</td>\n",
              "      <td>0.019296</td>\n",
              "      <td>0.010233</td>\n",
              "      <td>0.000003</td>\n",
              "      <td>0.000193</td>\n",
              "      <td>0.015686</td>\n",
              "      <td>0.001114</td>\n",
              "      <td>0.002726</td>\n",
              "      <td>0.000106</td>\n",
              "      <td>0.005603</td>\n",
              "      <td>0.004358</td>\n",
              "    </tr>\n",
              "    <tr>\n",
              "      <th>AmenazaIntimidacion</th>\n",
              "      <td>2.394778e+02</td>\n",
              "      <td>0.084264</td>\n",
              "      <td>0.035443</td>\n",
              "      <td>8.146558e+00</td>\n",
              "      <td>0.010233</td>\n",
              "      <td>0.082066</td>\n",
              "      <td>0.000049</td>\n",
              "      <td>0.000764</td>\n",
              "      <td>0.029926</td>\n",
              "      <td>0.006171</td>\n",
              "      <td>0.005757</td>\n",
              "      <td>0.000055</td>\n",
              "      <td>0.013670</td>\n",
              "      <td>0.007780</td>\n",
              "    </tr>\n",
              "    <tr>\n",
              "      <th>AtaqueContraMisionMedica</th>\n",
              "      <td>5.007297e+00</td>\n",
              "      <td>0.000535</td>\n",
              "      <td>0.000051</td>\n",
              "      <td>2.148470e-02</td>\n",
              "      <td>0.000003</td>\n",
              "      <td>0.000049</td>\n",
              "      <td>0.000300</td>\n",
              "      <td>0.000016</td>\n",
              "      <td>0.000045</td>\n",
              "      <td>0.000009</td>\n",
              "      <td>0.000029</td>\n",
              "      <td>0.000370</td>\n",
              "      <td>0.000085</td>\n",
              "      <td>0.000344</td>\n",
              "    </tr>\n",
              "    <tr>\n",
              "      <th>ConfinamientoRestriccionMovilidad</th>\n",
              "      <td>2.487839e+01</td>\n",
              "      <td>0.004460</td>\n",
              "      <td>0.001055</td>\n",
              "      <td>3.591784e-01</td>\n",
              "      <td>0.000193</td>\n",
              "      <td>0.000764</td>\n",
              "      <td>0.000016</td>\n",
              "      <td>0.003553</td>\n",
              "      <td>0.000427</td>\n",
              "      <td>0.000050</td>\n",
              "      <td>0.000415</td>\n",
              "      <td>0.000585</td>\n",
              "      <td>0.000850</td>\n",
              "      <td>-0.000051</td>\n",
              "    </tr>\n",
              "    <tr>\n",
              "      <th>DesplazamientoForzado</th>\n",
              "      <td>7.843287e+02</td>\n",
              "      <td>0.025745</td>\n",
              "      <td>0.016656</td>\n",
              "      <td>4.933978e+00</td>\n",
              "      <td>0.015686</td>\n",
              "      <td>0.029926</td>\n",
              "      <td>0.000045</td>\n",
              "      <td>0.000427</td>\n",
              "      <td>0.054960</td>\n",
              "      <td>0.003153</td>\n",
              "      <td>0.004771</td>\n",
              "      <td>0.000977</td>\n",
              "      <td>0.010367</td>\n",
              "      <td>0.010556</td>\n",
              "    </tr>\n",
              "    <tr>\n",
              "      <th>Extorsion</th>\n",
              "      <td>-3.664089e+02</td>\n",
              "      <td>0.019224</td>\n",
              "      <td>0.007031</td>\n",
              "      <td>1.367925e+00</td>\n",
              "      <td>0.001114</td>\n",
              "      <td>0.006171</td>\n",
              "      <td>0.000009</td>\n",
              "      <td>0.000050</td>\n",
              "      <td>0.003153</td>\n",
              "      <td>0.015989</td>\n",
              "      <td>0.001449</td>\n",
              "      <td>-0.000237</td>\n",
              "      <td>0.001053</td>\n",
              "      <td>-0.000231</td>\n",
              "    </tr>\n",
              "    <tr>\n",
              "      <th>Pillaje</th>\n",
              "      <td>2.841545e+02</td>\n",
              "      <td>0.031070</td>\n",
              "      <td>0.010487</td>\n",
              "      <td>2.484109e+00</td>\n",
              "      <td>0.002726</td>\n",
              "      <td>0.005757</td>\n",
              "      <td>0.000029</td>\n",
              "      <td>0.000415</td>\n",
              "      <td>0.004771</td>\n",
              "      <td>0.001449</td>\n",
              "      <td>0.026987</td>\n",
              "      <td>0.001863</td>\n",
              "      <td>0.007590</td>\n",
              "      <td>0.007149</td>\n",
              "    </tr>\n",
              "    <tr>\n",
              "      <th>LesionadosCiviles</th>\n",
              "      <td>-3.059596e+03</td>\n",
              "      <td>0.061556</td>\n",
              "      <td>0.055671</td>\n",
              "      <td>8.200121e+00</td>\n",
              "      <td>0.000106</td>\n",
              "      <td>0.000055</td>\n",
              "      <td>0.000370</td>\n",
              "      <td>0.000585</td>\n",
              "      <td>0.000977</td>\n",
              "      <td>-0.000237</td>\n",
              "      <td>0.001863</td>\n",
              "      <td>3.191330</td>\n",
              "      <td>0.001192</td>\n",
              "      <td>0.251389</td>\n",
              "    </tr>\n",
              "    <tr>\n",
              "      <th>Tortura</th>\n",
              "      <td>1.671416e+03</td>\n",
              "      <td>0.076070</td>\n",
              "      <td>0.024116</td>\n",
              "      <td>6.328225e+00</td>\n",
              "      <td>0.005603</td>\n",
              "      <td>0.013670</td>\n",
              "      <td>0.000085</td>\n",
              "      <td>0.000850</td>\n",
              "      <td>0.010367</td>\n",
              "      <td>0.001053</td>\n",
              "      <td>0.007590</td>\n",
              "      <td>0.001192</td>\n",
              "      <td>0.181046</td>\n",
              "      <td>0.087077</td>\n",
              "    </tr>\n",
              "    <tr>\n",
              "      <th>NumeroVictimasCaso</th>\n",
              "      <td>2.034036e+03</td>\n",
              "      <td>0.117407</td>\n",
              "      <td>0.055171</td>\n",
              "      <td>1.258207e+01</td>\n",
              "      <td>0.004358</td>\n",
              "      <td>0.007780</td>\n",
              "      <td>0.000344</td>\n",
              "      <td>-0.000051</td>\n",
              "      <td>0.010556</td>\n",
              "      <td>-0.000231</td>\n",
              "      <td>0.007149</td>\n",
              "      <td>0.251389</td>\n",
              "      <td>0.087077</td>\n",
              "      <td>2.366348</td>\n",
              "    </tr>\n",
              "  </tbody>\n",
              "</table>\n",
              "</div>"
            ],
            "text/plain": [
              "                                         IdCaso  ...  NumeroVictimasCaso\n",
              "IdCaso                             1.846033e+10  ...         2034.035688\n",
              "DIAH                              -1.195241e+05  ...            0.117407\n",
              "MESH                              -3.215058e+04  ...            0.055171\n",
              "ANNOH                             -7.159679e+06  ...           12.582073\n",
              "AbandonoDespojoForzadoTierras      5.691857e+02  ...            0.004358\n",
              "AmenazaIntimidacion                2.394778e+02  ...            0.007780\n",
              "AtaqueContraMisionMedica           5.007297e+00  ...            0.000344\n",
              "ConfinamientoRestriccionMovilidad  2.487839e+01  ...           -0.000051\n",
              "DesplazamientoForzado              7.843287e+02  ...            0.010556\n",
              "Extorsion                         -3.664089e+02  ...           -0.000231\n",
              "Pillaje                            2.841545e+02  ...            0.007149\n",
              "LesionadosCiviles                 -3.059596e+03  ...            0.251389\n",
              "Tortura                            1.671416e+03  ...            0.087077\n",
              "NumeroVictimasCaso                 2.034036e+03  ...            2.366348\n",
              "\n",
              "[14 rows x 14 columns]"
            ]
          },
          "metadata": {
            "tags": []
          },
          "execution_count": 17
        }
      ]
    },
    {
      "cell_type": "markdown",
      "metadata": {
        "id": "yqJoskMjKiIT"
      },
      "source": [
        "Correlación lineal\n"
      ]
    },
    {
      "cell_type": "code",
      "metadata": {
        "colab": {
          "base_uri": "https://localhost:8080/",
          "height": 503
        },
        "id": "P-nSNpoEKjo_",
        "outputId": "90345182-6a26-4dba-a705-f5ecd743686d"
      },
      "source": [
        "#Python\n",
        "data.corr()"
      ],
      "execution_count": null,
      "outputs": [
        {
          "output_type": "execute_result",
          "data": {
            "text/html": [
              "<div>\n",
              "<style scoped>\n",
              "    .dataframe tbody tr th:only-of-type {\n",
              "        vertical-align: middle;\n",
              "    }\n",
              "\n",
              "    .dataframe tbody tr th {\n",
              "        vertical-align: top;\n",
              "    }\n",
              "\n",
              "    .dataframe thead th {\n",
              "        text-align: right;\n",
              "    }\n",
              "</style>\n",
              "<table border=\"1\" class=\"dataframe\">\n",
              "  <thead>\n",
              "    <tr style=\"text-align: right;\">\n",
              "      <th></th>\n",
              "      <th>IdCaso</th>\n",
              "      <th>DIAH</th>\n",
              "      <th>MESH</th>\n",
              "      <th>ANNOH</th>\n",
              "      <th>AbandonoDespojoForzadoTierras</th>\n",
              "      <th>AmenazaIntimidacion</th>\n",
              "      <th>AtaqueContraMisionMedica</th>\n",
              "      <th>ConfinamientoRestriccionMovilidad</th>\n",
              "      <th>DesplazamientoForzado</th>\n",
              "      <th>Extorsion</th>\n",
              "      <th>Pillaje</th>\n",
              "      <th>LesionadosCiviles</th>\n",
              "      <th>Tortura</th>\n",
              "      <th>NumeroVictimasCaso</th>\n",
              "    </tr>\n",
              "  </thead>\n",
              "  <tbody>\n",
              "    <tr>\n",
              "      <th>IdCaso</th>\n",
              "      <td>1.000000</td>\n",
              "      <td>-0.092653</td>\n",
              "      <td>-0.064322</td>\n",
              "      <td>-0.116589</td>\n",
              "      <td>0.030158</td>\n",
              "      <td>0.006153</td>\n",
              "      <td>0.002126</td>\n",
              "      <td>0.003072</td>\n",
              "      <td>0.024624</td>\n",
              "      <td>-0.021327</td>\n",
              "      <td>0.012731</td>\n",
              "      <td>-0.012605</td>\n",
              "      <td>0.028911</td>\n",
              "      <td>0.009732</td>\n",
              "    </tr>\n",
              "    <tr>\n",
              "      <th>DIAH</th>\n",
              "      <td>-0.092653</td>\n",
              "      <td>1.000000</td>\n",
              "      <td>0.199882</td>\n",
              "      <td>0.335699</td>\n",
              "      <td>0.003646</td>\n",
              "      <td>0.030980</td>\n",
              "      <td>0.003249</td>\n",
              "      <td>0.007880</td>\n",
              "      <td>0.011566</td>\n",
              "      <td>0.016012</td>\n",
              "      <td>0.019920</td>\n",
              "      <td>0.003629</td>\n",
              "      <td>0.018830</td>\n",
              "      <td>0.008039</td>\n",
              "    </tr>\n",
              "    <tr>\n",
              "      <th>MESH</th>\n",
              "      <td>-0.064322</td>\n",
              "      <td>0.199882</td>\n",
              "      <td>1.000000</td>\n",
              "      <td>0.366025</td>\n",
              "      <td>0.013284</td>\n",
              "      <td>0.033631</td>\n",
              "      <td>0.000797</td>\n",
              "      <td>0.004812</td>\n",
              "      <td>0.019313</td>\n",
              "      <td>0.015114</td>\n",
              "      <td>0.017352</td>\n",
              "      <td>0.008471</td>\n",
              "      <td>0.015407</td>\n",
              "      <td>0.009749</td>\n",
              "    </tr>\n",
              "    <tr>\n",
              "      <th>ANNOH</th>\n",
              "      <td>-0.116589</td>\n",
              "      <td>0.335699</td>\n",
              "      <td>0.366025</td>\n",
              "      <td>1.000000</td>\n",
              "      <td>0.028769</td>\n",
              "      <td>0.062918</td>\n",
              "      <td>0.002743</td>\n",
              "      <td>0.013332</td>\n",
              "      <td>0.046564</td>\n",
              "      <td>0.023935</td>\n",
              "      <td>0.033456</td>\n",
              "      <td>0.010156</td>\n",
              "      <td>0.032906</td>\n",
              "      <td>0.018097</td>\n",
              "    </tr>\n",
              "    <tr>\n",
              "      <th>AbandonoDespojoForzadoTierras</th>\n",
              "      <td>0.030158</td>\n",
              "      <td>0.003646</td>\n",
              "      <td>0.013284</td>\n",
              "      <td>0.028769</td>\n",
              "      <td>1.000000</td>\n",
              "      <td>0.257138</td>\n",
              "      <td>0.001076</td>\n",
              "      <td>0.023360</td>\n",
              "      <td>0.481668</td>\n",
              "      <td>0.063443</td>\n",
              "      <td>0.119472</td>\n",
              "      <td>0.000427</td>\n",
              "      <td>0.094790</td>\n",
              "      <td>0.020396</td>\n",
              "    </tr>\n",
              "    <tr>\n",
              "      <th>AmenazaIntimidacion</th>\n",
              "      <td>0.006153</td>\n",
              "      <td>0.030980</td>\n",
              "      <td>0.033631</td>\n",
              "      <td>0.062918</td>\n",
              "      <td>0.257138</td>\n",
              "      <td>1.000000</td>\n",
              "      <td>0.009958</td>\n",
              "      <td>0.044747</td>\n",
              "      <td>0.445593</td>\n",
              "      <td>0.170351</td>\n",
              "      <td>0.122339</td>\n",
              "      <td>0.000107</td>\n",
              "      <td>0.112149</td>\n",
              "      <td>0.017654</td>\n",
              "    </tr>\n",
              "    <tr>\n",
              "      <th>AtaqueContraMisionMedica</th>\n",
              "      <td>0.002126</td>\n",
              "      <td>0.003249</td>\n",
              "      <td>0.000797</td>\n",
              "      <td>0.002743</td>\n",
              "      <td>0.001076</td>\n",
              "      <td>0.009958</td>\n",
              "      <td>1.000000</td>\n",
              "      <td>0.015426</td>\n",
              "      <td>0.011032</td>\n",
              "      <td>0.004239</td>\n",
              "      <td>0.010037</td>\n",
              "      <td>0.011941</td>\n",
              "      <td>0.011561</td>\n",
              "      <td>0.012889</td>\n",
              "    </tr>\n",
              "    <tr>\n",
              "      <th>ConfinamientoRestriccionMovilidad</th>\n",
              "      <td>0.003072</td>\n",
              "      <td>0.007880</td>\n",
              "      <td>0.004812</td>\n",
              "      <td>0.013332</td>\n",
              "      <td>0.023360</td>\n",
              "      <td>0.044747</td>\n",
              "      <td>0.015426</td>\n",
              "      <td>1.000000</td>\n",
              "      <td>0.030543</td>\n",
              "      <td>0.006601</td>\n",
              "      <td>0.042367</td>\n",
              "      <td>0.005490</td>\n",
              "      <td>0.033511</td>\n",
              "      <td>-0.000555</td>\n",
              "    </tr>\n",
              "    <tr>\n",
              "      <th>DesplazamientoForzado</th>\n",
              "      <td>0.024624</td>\n",
              "      <td>0.011566</td>\n",
              "      <td>0.019313</td>\n",
              "      <td>0.046564</td>\n",
              "      <td>0.481668</td>\n",
              "      <td>0.445593</td>\n",
              "      <td>0.011032</td>\n",
              "      <td>0.030543</td>\n",
              "      <td>1.000000</td>\n",
              "      <td>0.106361</td>\n",
              "      <td>0.123874</td>\n",
              "      <td>0.002332</td>\n",
              "      <td>0.103927</td>\n",
              "      <td>0.029271</td>\n",
              "    </tr>\n",
              "    <tr>\n",
              "      <th>Extorsion</th>\n",
              "      <td>-0.021327</td>\n",
              "      <td>0.016012</td>\n",
              "      <td>0.015114</td>\n",
              "      <td>0.023935</td>\n",
              "      <td>0.063443</td>\n",
              "      <td>0.170351</td>\n",
              "      <td>0.004239</td>\n",
              "      <td>0.006601</td>\n",
              "      <td>0.106361</td>\n",
              "      <td>1.000000</td>\n",
              "      <td>0.069746</td>\n",
              "      <td>-0.001051</td>\n",
              "      <td>0.019574</td>\n",
              "      <td>-0.001189</td>\n",
              "    </tr>\n",
              "    <tr>\n",
              "      <th>Pillaje</th>\n",
              "      <td>0.012731</td>\n",
              "      <td>0.019920</td>\n",
              "      <td>0.017352</td>\n",
              "      <td>0.033456</td>\n",
              "      <td>0.119472</td>\n",
              "      <td>0.122339</td>\n",
              "      <td>0.010037</td>\n",
              "      <td>0.042367</td>\n",
              "      <td>0.123874</td>\n",
              "      <td>0.069746</td>\n",
              "      <td>1.000000</td>\n",
              "      <td>0.006349</td>\n",
              "      <td>0.108585</td>\n",
              "      <td>0.028289</td>\n",
              "    </tr>\n",
              "    <tr>\n",
              "      <th>LesionadosCiviles</th>\n",
              "      <td>-0.012605</td>\n",
              "      <td>0.003629</td>\n",
              "      <td>0.008471</td>\n",
              "      <td>0.010156</td>\n",
              "      <td>0.000427</td>\n",
              "      <td>0.000107</td>\n",
              "      <td>0.011941</td>\n",
              "      <td>0.005490</td>\n",
              "      <td>0.002332</td>\n",
              "      <td>-0.001051</td>\n",
              "      <td>0.006349</td>\n",
              "      <td>1.000000</td>\n",
              "      <td>0.001569</td>\n",
              "      <td>0.091479</td>\n",
              "    </tr>\n",
              "    <tr>\n",
              "      <th>Tortura</th>\n",
              "      <td>0.028911</td>\n",
              "      <td>0.018830</td>\n",
              "      <td>0.015407</td>\n",
              "      <td>0.032906</td>\n",
              "      <td>0.094790</td>\n",
              "      <td>0.112149</td>\n",
              "      <td>0.011561</td>\n",
              "      <td>0.033511</td>\n",
              "      <td>0.103927</td>\n",
              "      <td>0.019574</td>\n",
              "      <td>0.108585</td>\n",
              "      <td>0.001569</td>\n",
              "      <td>1.000000</td>\n",
              "      <td>0.133036</td>\n",
              "    </tr>\n",
              "    <tr>\n",
              "      <th>NumeroVictimasCaso</th>\n",
              "      <td>0.009732</td>\n",
              "      <td>0.008039</td>\n",
              "      <td>0.009749</td>\n",
              "      <td>0.018097</td>\n",
              "      <td>0.020396</td>\n",
              "      <td>0.017654</td>\n",
              "      <td>0.012889</td>\n",
              "      <td>-0.000555</td>\n",
              "      <td>0.029271</td>\n",
              "      <td>-0.001189</td>\n",
              "      <td>0.028289</td>\n",
              "      <td>0.091479</td>\n",
              "      <td>0.133036</td>\n",
              "      <td>1.000000</td>\n",
              "    </tr>\n",
              "  </tbody>\n",
              "</table>\n",
              "</div>"
            ],
            "text/plain": [
              "                                     IdCaso  ...  NumeroVictimasCaso\n",
              "IdCaso                             1.000000  ...            0.009732\n",
              "DIAH                              -0.092653  ...            0.008039\n",
              "MESH                              -0.064322  ...            0.009749\n",
              "ANNOH                             -0.116589  ...            0.018097\n",
              "AbandonoDespojoForzadoTierras      0.030158  ...            0.020396\n",
              "AmenazaIntimidacion                0.006153  ...            0.017654\n",
              "AtaqueContraMisionMedica           0.002126  ...            0.012889\n",
              "ConfinamientoRestriccionMovilidad  0.003072  ...           -0.000555\n",
              "DesplazamientoForzado              0.024624  ...            0.029271\n",
              "Extorsion                         -0.021327  ...           -0.001189\n",
              "Pillaje                            0.012731  ...            0.028289\n",
              "LesionadosCiviles                 -0.012605  ...            0.091479\n",
              "Tortura                            0.028911  ...            0.133036\n",
              "NumeroVictimasCaso                 0.009732  ...            1.000000\n",
              "\n",
              "[14 rows x 14 columns]"
            ]
          },
          "metadata": {
            "tags": []
          },
          "execution_count": 18
        }
      ]
    },
    {
      "cell_type": "code",
      "metadata": {
        "colab": {
          "base_uri": "https://localhost:8080/",
          "height": 444
        },
        "id": "7-fYB_-iKrP8",
        "outputId": "5c4024a4-72d6-4232-e26c-4987215a9245"
      },
      "source": [
        "data.describe(include='all')"
      ],
      "execution_count": null,
      "outputs": [
        {
          "output_type": "execute_result",
          "data": {
            "text/html": [
              "<div>\n",
              "<style scoped>\n",
              "    .dataframe tbody tr th:only-of-type {\n",
              "        vertical-align: middle;\n",
              "    }\n",
              "\n",
              "    .dataframe tbody tr th {\n",
              "        vertical-align: top;\n",
              "    }\n",
              "\n",
              "    .dataframe thead th {\n",
              "        text-align: right;\n",
              "    }\n",
              "</style>\n",
              "<table border=\"1\" class=\"dataframe\">\n",
              "  <thead>\n",
              "    <tr style=\"text-align: right;\">\n",
              "      <th></th>\n",
              "      <th>IdCaso</th>\n",
              "      <th>DIAH</th>\n",
              "      <th>MESH</th>\n",
              "      <th>ANNOH</th>\n",
              "      <th>COD_DANE_MUN</th>\n",
              "      <th>REGION</th>\n",
              "      <th>DEPTO_CASO</th>\n",
              "      <th>MUNINICIO_CASO</th>\n",
              "      <th>Modalidad</th>\n",
              "      <th>PRESUNTO_REPONSABLE</th>\n",
              "      <th>DESCRIPCION_PRESUNTO_RESPONSABLE</th>\n",
              "      <th>AbandonoDespojoForzadoTierras</th>\n",
              "      <th>AmenazaIntimidacion</th>\n",
              "      <th>AtaqueContraMisionMedica</th>\n",
              "      <th>ConfinamientoRestriccionMovilidad</th>\n",
              "      <th>DesplazamientoForzado</th>\n",
              "      <th>Extorsion</th>\n",
              "      <th>Pillaje</th>\n",
              "      <th>LesionadosCiviles</th>\n",
              "      <th>Tortura</th>\n",
              "      <th>NumeroVictimasCaso</th>\n",
              "      <th>BaseOrigen</th>\n",
              "    </tr>\n",
              "  </thead>\n",
              "  <tbody>\n",
              "    <tr>\n",
              "      <th>count</th>\n",
              "      <td>352786.000000</td>\n",
              "      <td>352786.000000</td>\n",
              "      <td>352786.000000</td>\n",
              "      <td>352786.000000</td>\n",
              "      <td>352786.0</td>\n",
              "      <td>350969</td>\n",
              "      <td>352785</td>\n",
              "      <td>352785</td>\n",
              "      <td>352786</td>\n",
              "      <td>352786</td>\n",
              "      <td>352786</td>\n",
              "      <td>352786.000000</td>\n",
              "      <td>352786.000000</td>\n",
              "      <td>352786.000000</td>\n",
              "      <td>352786.000000</td>\n",
              "      <td>352786.000000</td>\n",
              "      <td>352786.000000</td>\n",
              "      <td>352786.000000</td>\n",
              "      <td>352786.000000</td>\n",
              "      <td>352786.000000</td>\n",
              "      <td>352786.000000</td>\n",
              "      <td>352786</td>\n",
              "    </tr>\n",
              "    <tr>\n",
              "      <th>unique</th>\n",
              "      <td>NaN</td>\n",
              "      <td>NaN</td>\n",
              "      <td>NaN</td>\n",
              "      <td>NaN</td>\n",
              "      <td>1864.0</td>\n",
              "      <td>78</td>\n",
              "      <td>35</td>\n",
              "      <td>1033</td>\n",
              "      <td>51</td>\n",
              "      <td>19</td>\n",
              "      <td>82</td>\n",
              "      <td>NaN</td>\n",
              "      <td>NaN</td>\n",
              "      <td>NaN</td>\n",
              "      <td>NaN</td>\n",
              "      <td>NaN</td>\n",
              "      <td>NaN</td>\n",
              "      <td>NaN</td>\n",
              "      <td>NaN</td>\n",
              "      <td>NaN</td>\n",
              "      <td>NaN</td>\n",
              "      <td>11</td>\n",
              "    </tr>\n",
              "    <tr>\n",
              "      <th>top</th>\n",
              "      <td>NaN</td>\n",
              "      <td>NaN</td>\n",
              "      <td>NaN</td>\n",
              "      <td>NaN</td>\n",
              "      <td>5001.0</td>\n",
              "      <td>VALLE DE ABURRA</td>\n",
              "      <td>ANTIOQUIA</td>\n",
              "      <td>MEDELLÍN</td>\n",
              "      <td>Desconocida</td>\n",
              "      <td>Grupo Paramilitar</td>\n",
              "      <td>No aplica</td>\n",
              "      <td>NaN</td>\n",
              "      <td>NaN</td>\n",
              "      <td>NaN</td>\n",
              "      <td>NaN</td>\n",
              "      <td>NaN</td>\n",
              "      <td>NaN</td>\n",
              "      <td>NaN</td>\n",
              "      <td>NaN</td>\n",
              "      <td>NaN</td>\n",
              "      <td>NaN</td>\n",
              "      <td>Asesinatos Selectivos</td>\n",
              "    </tr>\n",
              "    <tr>\n",
              "      <th>freq</th>\n",
              "      <td>NaN</td>\n",
              "      <td>NaN</td>\n",
              "      <td>NaN</td>\n",
              "      <td>NaN</td>\n",
              "      <td>14011.0</td>\n",
              "      <td>28785</td>\n",
              "      <td>96884</td>\n",
              "      <td>22637</td>\n",
              "      <td>150000</td>\n",
              "      <td>95970</td>\n",
              "      <td>109347</td>\n",
              "      <td>NaN</td>\n",
              "      <td>NaN</td>\n",
              "      <td>NaN</td>\n",
              "      <td>NaN</td>\n",
              "      <td>NaN</td>\n",
              "      <td>NaN</td>\n",
              "      <td>NaN</td>\n",
              "      <td>NaN</td>\n",
              "      <td>NaN</td>\n",
              "      <td>NaN</td>\n",
              "      <td>151563</td>\n",
              "    </tr>\n",
              "    <tr>\n",
              "      <th>mean</th>\n",
              "      <td>215688.335756</td>\n",
              "      <td>13.796160</td>\n",
              "      <td>5.944145</td>\n",
              "      <td>1891.429444</td>\n",
              "      <td>NaN</td>\n",
              "      <td>NaN</td>\n",
              "      <td>NaN</td>\n",
              "      <td>NaN</td>\n",
              "      <td>NaN</td>\n",
              "      <td>NaN</td>\n",
              "      <td>NaN</td>\n",
              "      <td>0.019683</td>\n",
              "      <td>0.090168</td>\n",
              "      <td>0.000300</td>\n",
              "      <td>0.003566</td>\n",
              "      <td>0.058367</td>\n",
              "      <td>0.016253</td>\n",
              "      <td>0.027535</td>\n",
              "      <td>0.080879</td>\n",
              "      <td>0.065306</td>\n",
              "      <td>1.167697</td>\n",
              "      <td>NaN</td>\n",
              "    </tr>\n",
              "    <tr>\n",
              "      <th>std</th>\n",
              "      <td>135868.811807</td>\n",
              "      <td>9.494568</td>\n",
              "      <td>3.678815</td>\n",
              "      <td>451.978581</td>\n",
              "      <td>NaN</td>\n",
              "      <td>NaN</td>\n",
              "      <td>NaN</td>\n",
              "      <td>NaN</td>\n",
              "      <td>NaN</td>\n",
              "      <td>NaN</td>\n",
              "      <td>NaN</td>\n",
              "      <td>0.138910</td>\n",
              "      <td>0.286472</td>\n",
              "      <td>0.017331</td>\n",
              "      <td>0.059609</td>\n",
              "      <td>0.234436</td>\n",
              "      <td>0.126449</td>\n",
              "      <td>0.164276</td>\n",
              "      <td>1.786429</td>\n",
              "      <td>0.425495</td>\n",
              "      <td>1.538294</td>\n",
              "      <td>NaN</td>\n",
              "    </tr>\n",
              "    <tr>\n",
              "      <th>min</th>\n",
              "      <td>1.000000</td>\n",
              "      <td>0.000000</td>\n",
              "      <td>0.000000</td>\n",
              "      <td>0.000000</td>\n",
              "      <td>NaN</td>\n",
              "      <td>NaN</td>\n",
              "      <td>NaN</td>\n",
              "      <td>NaN</td>\n",
              "      <td>NaN</td>\n",
              "      <td>NaN</td>\n",
              "      <td>NaN</td>\n",
              "      <td>0.000000</td>\n",
              "      <td>0.000000</td>\n",
              "      <td>0.000000</td>\n",
              "      <td>0.000000</td>\n",
              "      <td>0.000000</td>\n",
              "      <td>0.000000</td>\n",
              "      <td>0.000000</td>\n",
              "      <td>0.000000</td>\n",
              "      <td>0.000000</td>\n",
              "      <td>0.000000</td>\n",
              "      <td>NaN</td>\n",
              "    </tr>\n",
              "    <tr>\n",
              "      <th>25%</th>\n",
              "      <td>97271.500000</td>\n",
              "      <td>5.000000</td>\n",
              "      <td>3.000000</td>\n",
              "      <td>1994.000000</td>\n",
              "      <td>NaN</td>\n",
              "      <td>NaN</td>\n",
              "      <td>NaN</td>\n",
              "      <td>NaN</td>\n",
              "      <td>NaN</td>\n",
              "      <td>NaN</td>\n",
              "      <td>NaN</td>\n",
              "      <td>0.000000</td>\n",
              "      <td>0.000000</td>\n",
              "      <td>0.000000</td>\n",
              "      <td>0.000000</td>\n",
              "      <td>0.000000</td>\n",
              "      <td>0.000000</td>\n",
              "      <td>0.000000</td>\n",
              "      <td>0.000000</td>\n",
              "      <td>0.000000</td>\n",
              "      <td>1.000000</td>\n",
              "      <td>NaN</td>\n",
              "    </tr>\n",
              "    <tr>\n",
              "      <th>50%</th>\n",
              "      <td>200933.500000</td>\n",
              "      <td>14.000000</td>\n",
              "      <td>6.000000</td>\n",
              "      <td>2000.000000</td>\n",
              "      <td>NaN</td>\n",
              "      <td>NaN</td>\n",
              "      <td>NaN</td>\n",
              "      <td>NaN</td>\n",
              "      <td>NaN</td>\n",
              "      <td>NaN</td>\n",
              "      <td>NaN</td>\n",
              "      <td>0.000000</td>\n",
              "      <td>0.000000</td>\n",
              "      <td>0.000000</td>\n",
              "      <td>0.000000</td>\n",
              "      <td>0.000000</td>\n",
              "      <td>0.000000</td>\n",
              "      <td>0.000000</td>\n",
              "      <td>0.000000</td>\n",
              "      <td>0.000000</td>\n",
              "      <td>1.000000</td>\n",
              "      <td>NaN</td>\n",
              "    </tr>\n",
              "    <tr>\n",
              "      <th>75%</th>\n",
              "      <td>330031.750000</td>\n",
              "      <td>22.000000</td>\n",
              "      <td>9.000000</td>\n",
              "      <td>2003.000000</td>\n",
              "      <td>NaN</td>\n",
              "      <td>NaN</td>\n",
              "      <td>NaN</td>\n",
              "      <td>NaN</td>\n",
              "      <td>NaN</td>\n",
              "      <td>NaN</td>\n",
              "      <td>NaN</td>\n",
              "      <td>0.000000</td>\n",
              "      <td>0.000000</td>\n",
              "      <td>0.000000</td>\n",
              "      <td>0.000000</td>\n",
              "      <td>0.000000</td>\n",
              "      <td>0.000000</td>\n",
              "      <td>0.000000</td>\n",
              "      <td>0.000000</td>\n",
              "      <td>0.000000</td>\n",
              "      <td>1.000000</td>\n",
              "      <td>NaN</td>\n",
              "    </tr>\n",
              "    <tr>\n",
              "      <th>max</th>\n",
              "      <td>532504.000000</td>\n",
              "      <td>31.000000</td>\n",
              "      <td>12.000000</td>\n",
              "      <td>2018.000000</td>\n",
              "      <td>NaN</td>\n",
              "      <td>NaN</td>\n",
              "      <td>NaN</td>\n",
              "      <td>NaN</td>\n",
              "      <td>NaN</td>\n",
              "      <td>NaN</td>\n",
              "      <td>NaN</td>\n",
              "      <td>1.000000</td>\n",
              "      <td>3.000000</td>\n",
              "      <td>1.000000</td>\n",
              "      <td>1.000000</td>\n",
              "      <td>1.000000</td>\n",
              "      <td>1.000000</td>\n",
              "      <td>8.000000</td>\n",
              "      <td>600.000000</td>\n",
              "      <td>53.000000</td>\n",
              "      <td>200.000000</td>\n",
              "      <td>NaN</td>\n",
              "    </tr>\n",
              "  </tbody>\n",
              "</table>\n",
              "</div>"
            ],
            "text/plain": [
              "               IdCaso           DIAH  ...  NumeroVictimasCaso             BaseOrigen\n",
              "count   352786.000000  352786.000000  ...       352786.000000                 352786\n",
              "unique            NaN            NaN  ...                 NaN                     11\n",
              "top               NaN            NaN  ...                 NaN  Asesinatos Selectivos\n",
              "freq              NaN            NaN  ...                 NaN                 151563\n",
              "mean    215688.335756      13.796160  ...            1.167697                    NaN\n",
              "std     135868.811807       9.494568  ...            1.538294                    NaN\n",
              "min          1.000000       0.000000  ...            0.000000                    NaN\n",
              "25%      97271.500000       5.000000  ...            1.000000                    NaN\n",
              "50%     200933.500000      14.000000  ...            1.000000                    NaN\n",
              "75%     330031.750000      22.000000  ...            1.000000                    NaN\n",
              "max     532504.000000      31.000000  ...          200.000000                    NaN\n",
              "\n",
              "[11 rows x 22 columns]"
            ]
          },
          "metadata": {
            "tags": []
          },
          "execution_count": 19
        }
      ]
    },
    {
      "cell_type": "markdown",
      "metadata": {
        "id": "SFoQuT6OKzqu"
      },
      "source": [
        "Histograma"
      ]
    },
    {
      "cell_type": "code",
      "metadata": {
        "colab": {
          "base_uri": "https://localhost:8080/",
          "height": 266
        },
        "id": "5wvfOl6FKy-Y",
        "outputId": "2ca0979d-55f9-4b54-bc28-8ef1a201ee89"
      },
      "source": [
        "#Python\n",
        "hist = data['DEPTO_CASO'].hist()"
      ],
      "execution_count": null,
      "outputs": [
        {
          "output_type": "display_data",
          "data": {
            "image/png": "[encoded data removed]",
            "text/plain": [
              "<Figure size 432x288 with 1 Axes>"
            ]
          },
          "metadata": {
            "tags": [],
            "needs_background": "light"
          }
        }
      ]
    },
    {
      "cell_type": "markdown",
      "metadata": {
        "id": "egA1hytHLTwS"
      },
      "source": [
        "Estimación de densidad"
      ]
    },
    {
      "cell_type": "code",
      "metadata": {
        "colab": {
          "base_uri": "https://localhost:8080/",
          "height": 265
        },
        "id": "CxFI_1obLVYX",
        "outputId": "a1f6dc2a-15d7-4566-f7ae-a837735ae966"
      },
      "source": [
        "#Python\n",
        "ax = data['NumeroVictimasCaso'].plot.kde()"
      ],
      "execution_count": null,
      "outputs": [
        {
          "output_type": "display_data",
          "data": {
            "image/png": "[encoded data removed]",
            "text/plain": [
              "<Figure size 432x288 with 1 Axes>"
            ]
          },
          "metadata": {
            "tags": [],
            "needs_background": "light"
          }
        }
      ]
    },
    {
      "cell_type": "markdown",
      "metadata": {
        "id": "TCQrY_ZKLmld"
      },
      "source": [
        "Diagramas de caja"
      ]
    },
    {
      "cell_type": "code",
      "metadata": {
        "colab": {
          "base_uri": "https://localhost:8080/",
          "height": 445
        },
        "id": "ZX7G8MUGLn_F",
        "outputId": "354c3a51-61ed-4557-8f32-08bc0afb324d"
      },
      "source": [
        "#Python\n",
        "import matplotlib.pyplot as plt \n",
        "plt.figure(figsize = (10, 7)) \n",
        "data.boxplot() "
      ],
      "execution_count": null,
      "outputs": [
        {
          "output_type": "execute_result",
          "data": {
            "text/plain": [
              "<matplotlib.axes._subplots.AxesSubplot at 0x7fcfb5dacb50>"
            ]
          },
          "metadata": {
            "tags": []
          },
          "execution_count": 26
        },
        {
          "output_type": "display_data",
          "data": {
            "image/png": "[encoded data removed]",
            "text/plain": [
              "<Figure size 720x504 with 1 Axes>"
            ]
          },
          "metadata": {
            "tags": [],
            "needs_background": "light"
          }
        }
      ]
    },
    {
      "cell_type": "code",
      "metadata": {
        "colab": {
          "base_uri": "https://localhost:8080/",
          "height": 372
        },
        "id": "JIVmjUc8LtkQ",
        "outputId": "d4be5d6c-4936-46ff-8713-e632e7ada502"
      },
      "source": [
        "#Python\n",
        "data.boxplot(column='NumeroVictimasCaso',by='Tortura')"
      ],
      "execution_count": null,
      "outputs": [
        {
          "output_type": "stream",
          "text": [
            "/usr/local/lib/python3.7/dist-packages/numpy/core/_asarray.py:83: VisibleDeprecationWarning: Creating an ndarray from ragged nested sequences (which is a list-or-tuple of lists-or-tuples-or ndarrays with different lengths or shapes) is deprecated. If you meant to do this, you must specify 'dtype=object' when creating the ndarray\n",
            "  return array(a, dtype, copy=False, order=order)\n"
          ],
          "name": "stderr"
        },
        {
          "output_type": "execute_result",
          "data": {
            "text/plain": [
              "<matplotlib.axes._subplots.AxesSubplot at 0x7fcfb4ca3650>"
            ]
          },
          "metadata": {
            "tags": []
          },
          "execution_count": 31
        },
        {
          "output_type": "display_data",
          "data": {
            "image/png": "[encoded data removed]",
            "text/plain": [
              "<Figure size 432x288 with 1 Axes>"
            ]
          },
          "metadata": {
            "tags": [],
            "needs_background": "light"
          }
        }
      ]
    },
    {
      "cell_type": "markdown",
      "metadata": {
        "id": "NiMn8ZBRMUSP"
      },
      "source": [
        "Diagramas de Dispersión"
      ]
    },
    {
      "cell_type": "code",
      "metadata": {
        "colab": {
          "base_uri": "https://localhost:8080/",
          "height": 656
        },
        "id": "11CRzkb_MWuL",
        "outputId": "8c71f200-497a-43f6-f060-af9d925c2986"
      },
      "source": [
        "#Python\n",
        "colors = {'Acciones Bélicas':'r', 'Asesinatos Selectivos':'g', 'Ataque a Poblaciones':'b'}\n",
        "fig, ax = plt.subplots()\n",
        "for i in range(len(data['NumeroVictimasCaso'])):\n",
        "    ax.scatter(data['DesplazamientoForzado'][i], data['NumeroVictimasCaso'][i],color=colors[data['BaseOrigen'][i]])\n",
        "ax.set_title('Victimas Dataset')\n",
        "ax.set_xlabel('BaseOrigen')\n",
        "ax.set_ylabel('DesplazamientoForzado')"
      ],
      "execution_count": null,
      "outputs": [
        {
          "output_type": "error",
          "ename": "KeyboardInterrupt",
          "evalue": "ignored",
          "traceback": [
            "\u001b[0;31m---------------------------------------------------------------------------\u001b[0m",
            "\u001b[0;31mKeyboardInterrupt\u001b[0m                         Traceback (most recent call last)",
            "\u001b[0;32m<ipython-input-65-23976c981d49>\u001b[0m in \u001b[0;36m<module>\u001b[0;34m()\u001b[0m\n\u001b[1;32m      3\u001b[0m \u001b[0mfig\u001b[0m\u001b[0;34m,\u001b[0m \u001b[0max\u001b[0m \u001b[0;34m=\u001b[0m \u001b[0mplt\u001b[0m\u001b[0;34m.\u001b[0m\u001b[0msubplots\u001b[0m\u001b[0;34m(\u001b[0m\u001b[0;34m)\u001b[0m\u001b[0;34m\u001b[0m\u001b[0;34m\u001b[0m\u001b[0m\n\u001b[1;32m      4\u001b[0m \u001b[0;32mfor\u001b[0m \u001b[0mi\u001b[0m \u001b[0;32min\u001b[0m \u001b[0mrange\u001b[0m\u001b[0;34m(\u001b[0m\u001b[0mlen\u001b[0m\u001b[0;34m(\u001b[0m\u001b[0mdata\u001b[0m\u001b[0;34m[\u001b[0m\u001b[0;34m'NumeroVictimasCaso'\u001b[0m\u001b[0;34m]\u001b[0m\u001b[0;34m)\u001b[0m\u001b[0;34m)\u001b[0m\u001b[0;34m:\u001b[0m\u001b[0;34m\u001b[0m\u001b[0;34m\u001b[0m\u001b[0m\n\u001b[0;32m----> 5\u001b[0;31m     \u001b[0max\u001b[0m\u001b[0;34m.\u001b[0m\u001b[0mscatter\u001b[0m\u001b[0;34m(\u001b[0m\u001b[0mdata\u001b[0m\u001b[0;34m[\u001b[0m\u001b[0;34m'DesplazamientoForzado'\u001b[0m\u001b[0;34m]\u001b[0m\u001b[0;34m[\u001b[0m\u001b[0mi\u001b[0m\u001b[0;34m]\u001b[0m\u001b[0;34m,\u001b[0m \u001b[0mdata\u001b[0m\u001b[0;34m[\u001b[0m\u001b[0;34m'NumeroVictimasCaso'\u001b[0m\u001b[0;34m]\u001b[0m\u001b[0;34m[\u001b[0m\u001b[0mi\u001b[0m\u001b[0;34m]\u001b[0m\u001b[0;34m,\u001b[0m\u001b[0mcolor\u001b[0m\u001b[0;34m=\u001b[0m\u001b[0mcolors\u001b[0m\u001b[0;34m[\u001b[0m\u001b[0mdata\u001b[0m\u001b[0;34m[\u001b[0m\u001b[0;34m'BaseOrigen'\u001b[0m\u001b[0;34m]\u001b[0m\u001b[0;34m[\u001b[0m\u001b[0mi\u001b[0m\u001b[0;34m]\u001b[0m\u001b[0;34m]\u001b[0m\u001b[0;34m)\u001b[0m\u001b[0;34m\u001b[0m\u001b[0;34m\u001b[0m\u001b[0m\n\u001b[0m\u001b[1;32m      6\u001b[0m \u001b[0max\u001b[0m\u001b[0;34m.\u001b[0m\u001b[0mset_title\u001b[0m\u001b[0;34m(\u001b[0m\u001b[0;34m'Victimas Dataset'\u001b[0m\u001b[0;34m)\u001b[0m\u001b[0;34m\u001b[0m\u001b[0;34m\u001b[0m\u001b[0m\n\u001b[1;32m      7\u001b[0m \u001b[0max\u001b[0m\u001b[0;34m.\u001b[0m\u001b[0mset_xlabel\u001b[0m\u001b[0;34m(\u001b[0m\u001b[0;34m'BaseOrigen'\u001b[0m\u001b[0;34m)\u001b[0m\u001b[0;34m\u001b[0m\u001b[0;34m\u001b[0m\u001b[0m\n",
            "\u001b[0;32m/usr/local/lib/python3.7/dist-packages/matplotlib/__init__.py\u001b[0m in \u001b[0;36minner\u001b[0;34m(ax, data, *args, **kwargs)\u001b[0m\n\u001b[1;32m   1563\u001b[0m     \u001b[0;32mdef\u001b[0m \u001b[0minner\u001b[0m\u001b[0;34m(\u001b[0m\u001b[0max\u001b[0m\u001b[0;34m,\u001b[0m \u001b[0;34m*\u001b[0m\u001b[0margs\u001b[0m\u001b[0;34m,\u001b[0m \u001b[0mdata\u001b[0m\u001b[0;34m=\u001b[0m\u001b[0;32mNone\u001b[0m\u001b[0;34m,\u001b[0m \u001b[0;34m**\u001b[0m\u001b[0mkwargs\u001b[0m\u001b[0;34m)\u001b[0m\u001b[0;34m:\u001b[0m\u001b[0;34m\u001b[0m\u001b[0;34m\u001b[0m\u001b[0m\n\u001b[1;32m   1564\u001b[0m         \u001b[0;32mif\u001b[0m \u001b[0mdata\u001b[0m \u001b[0;32mis\u001b[0m \u001b[0;32mNone\u001b[0m\u001b[0;34m:\u001b[0m\u001b[0;34m\u001b[0m\u001b[0;34m\u001b[0m\u001b[0m\n\u001b[0;32m-> 1565\u001b[0;31m             \u001b[0;32mreturn\u001b[0m \u001b[0mfunc\u001b[0m\u001b[0;34m(\u001b[0m\u001b[0max\u001b[0m\u001b[0;34m,\u001b[0m \u001b[0;34m*\u001b[0m\u001b[0mmap\u001b[0m\u001b[0;34m(\u001b[0m\u001b[0msanitize_sequence\u001b[0m\u001b[0;34m,\u001b[0m \u001b[0margs\u001b[0m\u001b[0;34m)\u001b[0m\u001b[0;34m,\u001b[0m \u001b[0;34m**\u001b[0m\u001b[0mkwargs\u001b[0m\u001b[0;34m)\u001b[0m\u001b[0;34m\u001b[0m\u001b[0;34m\u001b[0m\u001b[0m\n\u001b[0m\u001b[1;32m   1566\u001b[0m \u001b[0;34m\u001b[0m\u001b[0m\n\u001b[1;32m   1567\u001b[0m         \u001b[0mbound\u001b[0m \u001b[0;34m=\u001b[0m \u001b[0mnew_sig\u001b[0m\u001b[0;34m.\u001b[0m\u001b[0mbind\u001b[0m\u001b[0;34m(\u001b[0m\u001b[0max\u001b[0m\u001b[0;34m,\u001b[0m \u001b[0;34m*\u001b[0m\u001b[0margs\u001b[0m\u001b[0;34m,\u001b[0m \u001b[0;34m**\u001b[0m\u001b[0mkwargs\u001b[0m\u001b[0;34m)\u001b[0m\u001b[0;34m\u001b[0m\u001b[0;34m\u001b[0m\u001b[0m\n",
            "\u001b[0;32m/usr/local/lib/python3.7/dist-packages/matplotlib/cbook/deprecation.py\u001b[0m in \u001b[0;36mwrapper\u001b[0;34m(*args, **kwargs)\u001b[0m\n\u001b[1;32m    356\u001b[0m                 \u001b[0;34mf\"%(removal)s.  If any parameter follows {name!r}, they \"\u001b[0m\u001b[0;34m\u001b[0m\u001b[0;34m\u001b[0m\u001b[0m\n\u001b[1;32m    357\u001b[0m                 f\"should be pass as keyword, not positionally.\")\n\u001b[0;32m--> 358\u001b[0;31m         \u001b[0;32mreturn\u001b[0m \u001b[0mfunc\u001b[0m\u001b[0;34m(\u001b[0m\u001b[0;34m*\u001b[0m\u001b[0margs\u001b[0m\u001b[0;34m,\u001b[0m \u001b[0;34m**\u001b[0m\u001b[0mkwargs\u001b[0m\u001b[0;34m)\u001b[0m\u001b[0;34m\u001b[0m\u001b[0;34m\u001b[0m\u001b[0m\n\u001b[0m\u001b[1;32m    359\u001b[0m \u001b[0;34m\u001b[0m\u001b[0m\n\u001b[1;32m    360\u001b[0m     \u001b[0;32mreturn\u001b[0m \u001b[0mwrapper\u001b[0m\u001b[0;34m\u001b[0m\u001b[0;34m\u001b[0m\u001b[0m\n",
            "\u001b[0;32m/usr/local/lib/python3.7/dist-packages/matplotlib/axes/_axes.py\u001b[0m in \u001b[0;36mscatter\u001b[0;34m(self, x, y, s, c, marker, cmap, norm, vmin, vmax, alpha, linewidths, verts, edgecolors, plotnonfinite, **kwargs)\u001b[0m\n\u001b[1;32m   4464\u001b[0m                 \u001b[0mself\u001b[0m\u001b[0;34m.\u001b[0m\u001b[0mset_ymargin\u001b[0m\u001b[0;34m(\u001b[0m\u001b[0;36m0.05\u001b[0m\u001b[0;34m)\u001b[0m\u001b[0;34m\u001b[0m\u001b[0;34m\u001b[0m\u001b[0m\n\u001b[1;32m   4465\u001b[0m \u001b[0;34m\u001b[0m\u001b[0m\n\u001b[0;32m-> 4466\u001b[0;31m         \u001b[0mself\u001b[0m\u001b[0;34m.\u001b[0m\u001b[0madd_collection\u001b[0m\u001b[0;34m(\u001b[0m\u001b[0mcollection\u001b[0m\u001b[0;34m)\u001b[0m\u001b[0;34m\u001b[0m\u001b[0;34m\u001b[0m\u001b[0m\n\u001b[0m\u001b[1;32m   4467\u001b[0m         \u001b[0mself\u001b[0m\u001b[0;34m.\u001b[0m\u001b[0m_request_autoscale_view\u001b[0m\u001b[0;34m(\u001b[0m\u001b[0;34m)\u001b[0m\u001b[0;34m\u001b[0m\u001b[0;34m\u001b[0m\u001b[0m\n\u001b[1;32m   4468\u001b[0m \u001b[0;34m\u001b[0m\u001b[0m\n",
            "\u001b[0;32m/usr/local/lib/python3.7/dist-packages/matplotlib/axes/_base.py\u001b[0m in \u001b[0;36madd_collection\u001b[0;34m(self, collection, autolim)\u001b[0m\n\u001b[1;32m   1818\u001b[0m             \u001b[0;31m# Make sure viewLim is not stale (mostly to match\u001b[0m\u001b[0;34m\u001b[0m\u001b[0;34m\u001b[0m\u001b[0;34m\u001b[0m\u001b[0m\n\u001b[1;32m   1819\u001b[0m             \u001b[0;31m# pre-lazy-autoscale behavior, which is not really better).\u001b[0m\u001b[0;34m\u001b[0m\u001b[0;34m\u001b[0m\u001b[0;34m\u001b[0m\u001b[0m\n\u001b[0;32m-> 1820\u001b[0;31m             \u001b[0mself\u001b[0m\u001b[0;34m.\u001b[0m\u001b[0m_unstale_viewLim\u001b[0m\u001b[0;34m(\u001b[0m\u001b[0;34m)\u001b[0m\u001b[0;34m\u001b[0m\u001b[0;34m\u001b[0m\u001b[0m\n\u001b[0m\u001b[1;32m   1821\u001b[0m             \u001b[0mself\u001b[0m\u001b[0;34m.\u001b[0m\u001b[0mupdate_datalim\u001b[0m\u001b[0;34m(\u001b[0m\u001b[0mcollection\u001b[0m\u001b[0;34m.\u001b[0m\u001b[0mget_datalim\u001b[0m\u001b[0;34m(\u001b[0m\u001b[0mself\u001b[0m\u001b[0;34m.\u001b[0m\u001b[0mtransData\u001b[0m\u001b[0;34m)\u001b[0m\u001b[0;34m)\u001b[0m\u001b[0;34m\u001b[0m\u001b[0;34m\u001b[0m\u001b[0m\n\u001b[1;32m   1822\u001b[0m \u001b[0;34m\u001b[0m\u001b[0m\n",
            "\u001b[0;32m/usr/local/lib/python3.7/dist-packages/matplotlib/axes/_base.py\u001b[0m in \u001b[0;36m_unstale_viewLim\u001b[0;34m(self)\u001b[0m\n\u001b[1;32m    593\u001b[0m             \u001b[0;32mfor\u001b[0m \u001b[0max\u001b[0m \u001b[0;32min\u001b[0m \u001b[0mself\u001b[0m\u001b[0;34m.\u001b[0m\u001b[0m_shared_y_axes\u001b[0m\u001b[0;34m.\u001b[0m\u001b[0mget_siblings\u001b[0m\u001b[0;34m(\u001b[0m\u001b[0mself\u001b[0m\u001b[0;34m)\u001b[0m\u001b[0;34m:\u001b[0m\u001b[0;34m\u001b[0m\u001b[0;34m\u001b[0m\u001b[0m\n\u001b[1;32m    594\u001b[0m                 \u001b[0max\u001b[0m\u001b[0;34m.\u001b[0m\u001b[0m_stale_viewlim_y\u001b[0m \u001b[0;34m=\u001b[0m \u001b[0;32mFalse\u001b[0m\u001b[0;34m\u001b[0m\u001b[0;34m\u001b[0m\u001b[0m\n\u001b[0;32m--> 595\u001b[0;31m             \u001b[0mself\u001b[0m\u001b[0;34m.\u001b[0m\u001b[0mautoscale_view\u001b[0m\u001b[0;34m(\u001b[0m\u001b[0mscalex\u001b[0m\u001b[0;34m=\u001b[0m\u001b[0mscalex\u001b[0m\u001b[0;34m,\u001b[0m \u001b[0mscaley\u001b[0m\u001b[0;34m=\u001b[0m\u001b[0mscaley\u001b[0m\u001b[0;34m)\u001b[0m\u001b[0;34m\u001b[0m\u001b[0;34m\u001b[0m\u001b[0m\n\u001b[0m\u001b[1;32m    596\u001b[0m \u001b[0;34m\u001b[0m\u001b[0m\n\u001b[1;32m    597\u001b[0m     \u001b[0;34m@\u001b[0m\u001b[0mproperty\u001b[0m\u001b[0;34m\u001b[0m\u001b[0;34m\u001b[0m\u001b[0m\n",
            "\u001b[0;32m/usr/local/lib/python3.7/dist-packages/matplotlib/axes/_base.py\u001b[0m in \u001b[0;36mautoscale_view\u001b[0;34m(self, tight, scalex, scaley)\u001b[0m\n\u001b[1;32m   2388\u001b[0m                 y_stickies = np.sort(np.concatenate([\n\u001b[1;32m   2389\u001b[0m                     \u001b[0martist\u001b[0m\u001b[0;34m.\u001b[0m\u001b[0msticky_edges\u001b[0m\u001b[0;34m.\u001b[0m\u001b[0my\u001b[0m\u001b[0;34m\u001b[0m\u001b[0;34m\u001b[0m\u001b[0m\n\u001b[0;32m-> 2390\u001b[0;31m                     \u001b[0;32mfor\u001b[0m \u001b[0max\u001b[0m \u001b[0;32min\u001b[0m \u001b[0mself\u001b[0m\u001b[0;34m.\u001b[0m\u001b[0m_shared_y_axes\u001b[0m\u001b[0;34m.\u001b[0m\u001b[0mget_siblings\u001b[0m\u001b[0;34m(\u001b[0m\u001b[0mself\u001b[0m\u001b[0;34m)\u001b[0m\u001b[0;34m\u001b[0m\u001b[0;34m\u001b[0m\u001b[0m\n\u001b[0m\u001b[1;32m   2391\u001b[0m                     \u001b[0;32mif\u001b[0m \u001b[0mhasattr\u001b[0m\u001b[0;34m(\u001b[0m\u001b[0max\u001b[0m\u001b[0;34m,\u001b[0m \u001b[0;34m\"lines\"\u001b[0m\u001b[0;34m)\u001b[0m\u001b[0;34m\u001b[0m\u001b[0;34m\u001b[0m\u001b[0m\n\u001b[1;32m   2392\u001b[0m                     for artist in ax.get_children()]))\n",
            "\u001b[0;32m<__array_function__ internals>\u001b[0m in \u001b[0;36mconcatenate\u001b[0;34m(*args, **kwargs)\u001b[0m\n",
            "\u001b[0;31mKeyboardInterrupt\u001b[0m: "
          ]
        },
        {
          "output_type": "display_data",
          "data": {
            "image/png": "[encoded data removed]",
            "text/plain": [
              "<Figure size 432x288 with 1 Axes>"
            ]
          },
          "metadata": {
            "tags": [],
            "needs_background": "light"
          }
        }
      ]
    },
    {
      "cell_type": "code",
      "metadata": {
        "colab": {
          "base_uri": "https://localhost:8080/",
          "height": 1000
        },
        "id": "40dpae_RQK6w",
        "outputId": "29d49789-c398-49a9-a610-5a0d60871fe8"
      },
      "source": [
        "#Python\n",
        "import seaborn as sns\n",
        "g = sns.pairplot(data, hue=\"BaseOrigen\")"
      ],
      "execution_count": null,
      "outputs": [
        {
          "output_type": "error",
          "ename": "KeyboardInterrupt",
          "evalue": "ignored",
          "traceback": [
            "\u001b[0;31m---------------------------------------------------------------------------\u001b[0m",
            "\u001b[0;31mKeyboardInterrupt\u001b[0m                         Traceback (most recent call last)",
            "\u001b[0;32m<ipython-input-38-6db052d80c9f>\u001b[0m in \u001b[0;36m<module>\u001b[0;34m()\u001b[0m\n\u001b[1;32m      1\u001b[0m \u001b[0;31m#Python\u001b[0m\u001b[0;34m\u001b[0m\u001b[0;34m\u001b[0m\u001b[0;34m\u001b[0m\u001b[0m\n\u001b[1;32m      2\u001b[0m \u001b[0;32mimport\u001b[0m \u001b[0mseaborn\u001b[0m \u001b[0;32mas\u001b[0m \u001b[0msns\u001b[0m\u001b[0;34m\u001b[0m\u001b[0;34m\u001b[0m\u001b[0m\n\u001b[0;32m----> 3\u001b[0;31m \u001b[0mg\u001b[0m \u001b[0;34m=\u001b[0m \u001b[0msns\u001b[0m\u001b[0;34m.\u001b[0m\u001b[0mpairplot\u001b[0m\u001b[0;34m(\u001b[0m\u001b[0mdata\u001b[0m\u001b[0;34m,\u001b[0m \u001b[0mhue\u001b[0m\u001b[0;34m=\u001b[0m\u001b[0;34m\"BaseOrigen\"\u001b[0m\u001b[0;34m)\u001b[0m\u001b[0;34m\u001b[0m\u001b[0;34m\u001b[0m\u001b[0m\n\u001b[0m",
            "\u001b[0;32m/usr/local/lib/python3.7/dist-packages/seaborn/_decorators.py\u001b[0m in \u001b[0;36minner_f\u001b[0;34m(*args, **kwargs)\u001b[0m\n\u001b[1;32m     44\u001b[0m             )\n\u001b[1;32m     45\u001b[0m         \u001b[0mkwargs\u001b[0m\u001b[0;34m.\u001b[0m\u001b[0mupdate\u001b[0m\u001b[0;34m(\u001b[0m\u001b[0;34m{\u001b[0m\u001b[0mk\u001b[0m\u001b[0;34m:\u001b[0m \u001b[0marg\u001b[0m \u001b[0;32mfor\u001b[0m \u001b[0mk\u001b[0m\u001b[0;34m,\u001b[0m \u001b[0marg\u001b[0m \u001b[0;32min\u001b[0m \u001b[0mzip\u001b[0m\u001b[0;34m(\u001b[0m\u001b[0msig\u001b[0m\u001b[0;34m.\u001b[0m\u001b[0mparameters\u001b[0m\u001b[0;34m,\u001b[0m \u001b[0margs\u001b[0m\u001b[0;34m)\u001b[0m\u001b[0;34m}\u001b[0m\u001b[0;34m)\u001b[0m\u001b[0;34m\u001b[0m\u001b[0;34m\u001b[0m\u001b[0m\n\u001b[0;32m---> 46\u001b[0;31m         \u001b[0;32mreturn\u001b[0m \u001b[0mf\u001b[0m\u001b[0;34m(\u001b[0m\u001b[0;34m**\u001b[0m\u001b[0mkwargs\u001b[0m\u001b[0;34m)\u001b[0m\u001b[0;34m\u001b[0m\u001b[0;34m\u001b[0m\u001b[0m\n\u001b[0m\u001b[1;32m     47\u001b[0m     \u001b[0;32mreturn\u001b[0m \u001b[0minner_f\u001b[0m\u001b[0;34m\u001b[0m\u001b[0;34m\u001b[0m\u001b[0m\n\u001b[1;32m     48\u001b[0m \u001b[0;34m\u001b[0m\u001b[0m\n",
            "\u001b[0;32m/usr/local/lib/python3.7/dist-packages/seaborn/axisgrid.py\u001b[0m in \u001b[0;36mpairplot\u001b[0;34m(data, hue, hue_order, palette, vars, x_vars, y_vars, kind, diag_kind, markers, height, aspect, corner, dropna, plot_kws, diag_kws, grid_kws, size)\u001b[0m\n\u001b[1;32m   1989\u001b[0m     grid = PairGrid(data, vars=vars, x_vars=x_vars, y_vars=y_vars, hue=hue,\n\u001b[1;32m   1990\u001b[0m                     \u001b[0mhue_order\u001b[0m\u001b[0;34m=\u001b[0m\u001b[0mhue_order\u001b[0m\u001b[0;34m,\u001b[0m \u001b[0mpalette\u001b[0m\u001b[0;34m=\u001b[0m\u001b[0mpalette\u001b[0m\u001b[0;34m,\u001b[0m \u001b[0mcorner\u001b[0m\u001b[0;34m=\u001b[0m\u001b[0mcorner\u001b[0m\u001b[0;34m,\u001b[0m\u001b[0;34m\u001b[0m\u001b[0;34m\u001b[0m\u001b[0m\n\u001b[0;32m-> 1991\u001b[0;31m                     height=height, aspect=aspect, dropna=dropna, **grid_kws)\n\u001b[0m\u001b[1;32m   1992\u001b[0m \u001b[0;34m\u001b[0m\u001b[0m\n\u001b[1;32m   1993\u001b[0m     \u001b[0;31m# Add the markers here as PairGrid has figured out how many levels of the\u001b[0m\u001b[0;34m\u001b[0m\u001b[0;34m\u001b[0m\u001b[0;34m\u001b[0m\u001b[0m\n",
            "\u001b[0;32m/usr/local/lib/python3.7/dist-packages/seaborn/_decorators.py\u001b[0m in \u001b[0;36minner_f\u001b[0;34m(*args, **kwargs)\u001b[0m\n\u001b[1;32m     44\u001b[0m             )\n\u001b[1;32m     45\u001b[0m         \u001b[0mkwargs\u001b[0m\u001b[0;34m.\u001b[0m\u001b[0mupdate\u001b[0m\u001b[0;34m(\u001b[0m\u001b[0;34m{\u001b[0m\u001b[0mk\u001b[0m\u001b[0;34m:\u001b[0m \u001b[0marg\u001b[0m \u001b[0;32mfor\u001b[0m \u001b[0mk\u001b[0m\u001b[0;34m,\u001b[0m \u001b[0marg\u001b[0m \u001b[0;32min\u001b[0m \u001b[0mzip\u001b[0m\u001b[0;34m(\u001b[0m\u001b[0msig\u001b[0m\u001b[0;34m.\u001b[0m\u001b[0mparameters\u001b[0m\u001b[0;34m,\u001b[0m \u001b[0margs\u001b[0m\u001b[0;34m)\u001b[0m\u001b[0;34m}\u001b[0m\u001b[0;34m)\u001b[0m\u001b[0;34m\u001b[0m\u001b[0;34m\u001b[0m\u001b[0m\n\u001b[0;32m---> 46\u001b[0;31m         \u001b[0;32mreturn\u001b[0m \u001b[0mf\u001b[0m\u001b[0;34m(\u001b[0m\u001b[0;34m**\u001b[0m\u001b[0mkwargs\u001b[0m\u001b[0;34m)\u001b[0m\u001b[0;34m\u001b[0m\u001b[0;34m\u001b[0m\u001b[0m\n\u001b[0m\u001b[1;32m     47\u001b[0m     \u001b[0;32mreturn\u001b[0m \u001b[0minner_f\u001b[0m\u001b[0;34m\u001b[0m\u001b[0;34m\u001b[0m\u001b[0m\n\u001b[1;32m     48\u001b[0m \u001b[0;34m\u001b[0m\u001b[0m\n",
            "\u001b[0;32m/usr/local/lib/python3.7/dist-packages/seaborn/axisgrid.py\u001b[0m in \u001b[0;36m__init__\u001b[0;34m(self, data, hue, hue_order, palette, hue_kws, vars, x_vars, y_vars, corner, diag_sharey, height, aspect, layout_pad, despine, dropna, size)\u001b[0m\n\u001b[1;32m   1248\u001b[0m         \u001b[0;32mif\u001b[0m \u001b[0mdespine\u001b[0m\u001b[0;34m:\u001b[0m\u001b[0;34m\u001b[0m\u001b[0;34m\u001b[0m\u001b[0m\n\u001b[1;32m   1249\u001b[0m             \u001b[0mutils\u001b[0m\u001b[0;34m.\u001b[0m\u001b[0mdespine\u001b[0m\u001b[0;34m(\u001b[0m\u001b[0mfig\u001b[0m\u001b[0;34m=\u001b[0m\u001b[0mfig\u001b[0m\u001b[0;34m)\u001b[0m\u001b[0;34m\u001b[0m\u001b[0;34m\u001b[0m\u001b[0m\n\u001b[0;32m-> 1250\u001b[0;31m         \u001b[0mself\u001b[0m\u001b[0;34m.\u001b[0m\u001b[0mtight_layout\u001b[0m\u001b[0;34m(\u001b[0m\u001b[0mpad\u001b[0m\u001b[0;34m=\u001b[0m\u001b[0mlayout_pad\u001b[0m\u001b[0;34m)\u001b[0m\u001b[0;34m\u001b[0m\u001b[0;34m\u001b[0m\u001b[0m\n\u001b[0m\u001b[1;32m   1251\u001b[0m \u001b[0;34m\u001b[0m\u001b[0m\n\u001b[1;32m   1252\u001b[0m     \u001b[0;32mdef\u001b[0m \u001b[0mmap\u001b[0m\u001b[0;34m(\u001b[0m\u001b[0mself\u001b[0m\u001b[0;34m,\u001b[0m \u001b[0mfunc\u001b[0m\u001b[0;34m,\u001b[0m \u001b[0;34m**\u001b[0m\u001b[0mkwargs\u001b[0m\u001b[0;34m)\u001b[0m\u001b[0;34m:\u001b[0m\u001b[0;34m\u001b[0m\u001b[0;34m\u001b[0m\u001b[0m\n",
            "\u001b[0;32m/usr/local/lib/python3.7/dist-packages/seaborn/axisgrid.py\u001b[0m in \u001b[0;36mtight_layout\u001b[0;34m(self, *args, **kwargs)\u001b[0m\n\u001b[1;32m     62\u001b[0m         \u001b[0;32mif\u001b[0m \u001b[0mself\u001b[0m\u001b[0;34m.\u001b[0m\u001b[0m_tight_layout_pad\u001b[0m \u001b[0;32mis\u001b[0m \u001b[0;32mnot\u001b[0m \u001b[0;32mNone\u001b[0m\u001b[0;34m:\u001b[0m\u001b[0;34m\u001b[0m\u001b[0;34m\u001b[0m\u001b[0m\n\u001b[1;32m     63\u001b[0m             \u001b[0mkwargs\u001b[0m\u001b[0;34m.\u001b[0m\u001b[0msetdefault\u001b[0m\u001b[0;34m(\u001b[0m\u001b[0;34m\"pad\"\u001b[0m\u001b[0;34m,\u001b[0m \u001b[0mself\u001b[0m\u001b[0;34m.\u001b[0m\u001b[0m_tight_layout_pad\u001b[0m\u001b[0;34m)\u001b[0m\u001b[0;34m\u001b[0m\u001b[0;34m\u001b[0m\u001b[0m\n\u001b[0;32m---> 64\u001b[0;31m         \u001b[0mself\u001b[0m\u001b[0;34m.\u001b[0m\u001b[0mfig\u001b[0m\u001b[0;34m.\u001b[0m\u001b[0mtight_layout\u001b[0m\u001b[0;34m(\u001b[0m\u001b[0;34m*\u001b[0m\u001b[0margs\u001b[0m\u001b[0;34m,\u001b[0m \u001b[0;34m**\u001b[0m\u001b[0mkwargs\u001b[0m\u001b[0;34m)\u001b[0m\u001b[0;34m\u001b[0m\u001b[0;34m\u001b[0m\u001b[0m\n\u001b[0m\u001b[1;32m     65\u001b[0m \u001b[0;34m\u001b[0m\u001b[0m\n\u001b[1;32m     66\u001b[0m     def add_legend(self, legend_data=None, title=None, label_order=None,\n",
            "\u001b[0;32m/usr/local/lib/python3.7/dist-packages/matplotlib/cbook/deprecation.py\u001b[0m in \u001b[0;36mwrapper\u001b[0;34m(*args, **kwargs)\u001b[0m\n\u001b[1;32m    356\u001b[0m                 \u001b[0;34mf\"%(removal)s.  If any parameter follows {name!r}, they \"\u001b[0m\u001b[0;34m\u001b[0m\u001b[0;34m\u001b[0m\u001b[0m\n\u001b[1;32m    357\u001b[0m                 f\"should be pass as keyword, not positionally.\")\n\u001b[0;32m--> 358\u001b[0;31m         \u001b[0;32mreturn\u001b[0m \u001b[0mfunc\u001b[0m\u001b[0;34m(\u001b[0m\u001b[0;34m*\u001b[0m\u001b[0margs\u001b[0m\u001b[0;34m,\u001b[0m \u001b[0;34m**\u001b[0m\u001b[0mkwargs\u001b[0m\u001b[0;34m)\u001b[0m\u001b[0;34m\u001b[0m\u001b[0;34m\u001b[0m\u001b[0m\n\u001b[0m\u001b[1;32m    359\u001b[0m \u001b[0;34m\u001b[0m\u001b[0m\n\u001b[1;32m    360\u001b[0m     \u001b[0;32mreturn\u001b[0m \u001b[0mwrapper\u001b[0m\u001b[0;34m\u001b[0m\u001b[0;34m\u001b[0m\u001b[0m\n",
            "\u001b[0;32m/usr/local/lib/python3.7/dist-packages/matplotlib/figure.py\u001b[0m in \u001b[0;36mtight_layout\u001b[0;34m(self, renderer, pad, h_pad, w_pad, rect)\u001b[0m\n\u001b[1;32m   2494\u001b[0m             kwargs = get_tight_layout_figure(\n\u001b[1;32m   2495\u001b[0m                 \u001b[0mself\u001b[0m\u001b[0;34m,\u001b[0m \u001b[0mself\u001b[0m\u001b[0;34m.\u001b[0m\u001b[0maxes\u001b[0m\u001b[0;34m,\u001b[0m \u001b[0msubplotspec_list\u001b[0m\u001b[0;34m,\u001b[0m \u001b[0mrenderer\u001b[0m\u001b[0;34m,\u001b[0m\u001b[0;34m\u001b[0m\u001b[0;34m\u001b[0m\u001b[0m\n\u001b[0;32m-> 2496\u001b[0;31m                 pad=pad, h_pad=h_pad, w_pad=w_pad, rect=rect)\n\u001b[0m\u001b[1;32m   2497\u001b[0m         \u001b[0;32mif\u001b[0m \u001b[0mkwargs\u001b[0m\u001b[0;34m:\u001b[0m\u001b[0;34m\u001b[0m\u001b[0;34m\u001b[0m\u001b[0m\n\u001b[1;32m   2498\u001b[0m             \u001b[0mself\u001b[0m\u001b[0;34m.\u001b[0m\u001b[0msubplots_adjust\u001b[0m\u001b[0;34m(\u001b[0m\u001b[0;34m**\u001b[0m\u001b[0mkwargs\u001b[0m\u001b[0;34m)\u001b[0m\u001b[0;34m\u001b[0m\u001b[0;34m\u001b[0m\u001b[0m\n",
            "\u001b[0;32m/usr/local/lib/python3.7/dist-packages/matplotlib/tight_layout.py\u001b[0m in \u001b[0;36mget_tight_layout_figure\u001b[0;34m(fig, axes_list, subplotspec_list, renderer, pad, h_pad, w_pad, rect)\u001b[0m\n\u001b[1;32m    358\u001b[0m                                      \u001b[0msubplot_list\u001b[0m\u001b[0;34m=\u001b[0m\u001b[0msubplot_list\u001b[0m\u001b[0;34m,\u001b[0m\u001b[0;34m\u001b[0m\u001b[0;34m\u001b[0m\u001b[0m\n\u001b[1;32m    359\u001b[0m                                      \u001b[0max_bbox_list\u001b[0m\u001b[0;34m=\u001b[0m\u001b[0max_bbox_list\u001b[0m\u001b[0;34m,\u001b[0m\u001b[0;34m\u001b[0m\u001b[0;34m\u001b[0m\u001b[0m\n\u001b[0;32m--> 360\u001b[0;31m                                      pad=pad, h_pad=h_pad, w_pad=w_pad)\n\u001b[0m\u001b[1;32m    361\u001b[0m \u001b[0;34m\u001b[0m\u001b[0m\n\u001b[1;32m    362\u001b[0m     \u001b[0;31m# kwargs can be none if tight_layout fails...\u001b[0m\u001b[0;34m\u001b[0m\u001b[0;34m\u001b[0m\u001b[0;34m\u001b[0m\u001b[0m\n",
            "\u001b[0;32m/usr/local/lib/python3.7/dist-packages/matplotlib/tight_layout.py\u001b[0m in \u001b[0;36mauto_adjust_subplotpars\u001b[0;34m(fig, renderer, nrows_ncols, num1num2_list, subplot_list, ax_bbox_list, pad, h_pad, w_pad, rect)\u001b[0m\n\u001b[1;32m    107\u001b[0m             \u001b[0;32mcontinue\u001b[0m\u001b[0;34m\u001b[0m\u001b[0;34m\u001b[0m\u001b[0m\n\u001b[1;32m    108\u001b[0m \u001b[0;34m\u001b[0m\u001b[0m\n\u001b[0;32m--> 109\u001b[0;31m         tight_bbox_raw = union([ax.get_tightbbox(renderer) for ax in subplots\n\u001b[0m\u001b[1;32m    110\u001b[0m                                 if ax.get_visible()])\n\u001b[1;32m    111\u001b[0m         tight_bbox = TransformedBbox(tight_bbox_raw,\n",
            "\u001b[0;32m/usr/local/lib/python3.7/dist-packages/matplotlib/tight_layout.py\u001b[0m in \u001b[0;36m<listcomp>\u001b[0;34m(.0)\u001b[0m\n\u001b[1;32m    108\u001b[0m \u001b[0;34m\u001b[0m\u001b[0m\n\u001b[1;32m    109\u001b[0m         tight_bbox_raw = union([ax.get_tightbbox(renderer) for ax in subplots\n\u001b[0;32m--> 110\u001b[0;31m                                 if ax.get_visible()])\n\u001b[0m\u001b[1;32m    111\u001b[0m         tight_bbox = TransformedBbox(tight_bbox_raw,\n\u001b[1;32m    112\u001b[0m                                      fig.transFigure.inverted())\n",
            "\u001b[0;32m/usr/local/lib/python3.7/dist-packages/matplotlib/axes/_base.py\u001b[0m in \u001b[0;36mget_tightbbox\u001b[0;34m(self, renderer, call_axes_locator, bbox_extra_artists)\u001b[0m\n\u001b[1;32m   4333\u001b[0m         \u001b[0mbb\u001b[0m\u001b[0;34m.\u001b[0m\u001b[0mappend\u001b[0m\u001b[0;34m(\u001b[0m\u001b[0maxbbox\u001b[0m\u001b[0;34m)\u001b[0m\u001b[0;34m\u001b[0m\u001b[0;34m\u001b[0m\u001b[0m\n\u001b[1;32m   4334\u001b[0m \u001b[0;34m\u001b[0m\u001b[0m\n\u001b[0;32m-> 4335\u001b[0;31m         \u001b[0mself\u001b[0m\u001b[0;34m.\u001b[0m\u001b[0m_update_title_position\u001b[0m\u001b[0;34m(\u001b[0m\u001b[0mrenderer\u001b[0m\u001b[0;34m)\u001b[0m\u001b[0;34m\u001b[0m\u001b[0;34m\u001b[0m\u001b[0m\n\u001b[0m\u001b[1;32m   4336\u001b[0m         \u001b[0;32mif\u001b[0m \u001b[0mself\u001b[0m\u001b[0;34m.\u001b[0m\u001b[0mtitle\u001b[0m\u001b[0;34m.\u001b[0m\u001b[0mget_visible\u001b[0m\u001b[0;34m(\u001b[0m\u001b[0;34m)\u001b[0m\u001b[0;34m:\u001b[0m\u001b[0;34m\u001b[0m\u001b[0;34m\u001b[0m\u001b[0m\n\u001b[1;32m   4337\u001b[0m             \u001b[0mbb\u001b[0m\u001b[0;34m.\u001b[0m\u001b[0mappend\u001b[0m\u001b[0;34m(\u001b[0m\u001b[0mself\u001b[0m\u001b[0;34m.\u001b[0m\u001b[0mtitle\u001b[0m\u001b[0;34m.\u001b[0m\u001b[0mget_window_extent\u001b[0m\u001b[0;34m(\u001b[0m\u001b[0mrenderer\u001b[0m\u001b[0;34m)\u001b[0m\u001b[0;34m)\u001b[0m\u001b[0;34m\u001b[0m\u001b[0;34m\u001b[0m\u001b[0m\n",
            "\u001b[0;32m/usr/local/lib/python3.7/dist-packages/matplotlib/axes/_base.py\u001b[0m in \u001b[0;36m_update_title_position\u001b[0;34m(self, renderer)\u001b[0m\n\u001b[1;32m   2531\u001b[0m                 if (ax.xaxis.get_ticks_position() in ['top', 'unknown']\n\u001b[1;32m   2532\u001b[0m                         or ax.xaxis.get_label_position() == 'top'):\n\u001b[0;32m-> 2533\u001b[0;31m                     \u001b[0mbb\u001b[0m \u001b[0;34m=\u001b[0m \u001b[0max\u001b[0m\u001b[0;34m.\u001b[0m\u001b[0mxaxis\u001b[0m\u001b[0;34m.\u001b[0m\u001b[0mget_tightbbox\u001b[0m\u001b[0;34m(\u001b[0m\u001b[0mrenderer\u001b[0m\u001b[0;34m)\u001b[0m\u001b[0;34m\u001b[0m\u001b[0;34m\u001b[0m\u001b[0m\n\u001b[0m\u001b[1;32m   2534\u001b[0m                 \u001b[0;32melse\u001b[0m\u001b[0;34m:\u001b[0m\u001b[0;34m\u001b[0m\u001b[0;34m\u001b[0m\u001b[0m\n\u001b[1;32m   2535\u001b[0m                     \u001b[0mbb\u001b[0m \u001b[0;34m=\u001b[0m \u001b[0max\u001b[0m\u001b[0;34m.\u001b[0m\u001b[0mget_window_extent\u001b[0m\u001b[0;34m(\u001b[0m\u001b[0mrenderer\u001b[0m\u001b[0;34m)\u001b[0m\u001b[0;34m\u001b[0m\u001b[0;34m\u001b[0m\u001b[0m\n",
            "\u001b[0;32m/usr/local/lib/python3.7/dist-packages/matplotlib/axis.py\u001b[0m in \u001b[0;36mget_tightbbox\u001b[0;34m(self, renderer)\u001b[0m\n\u001b[1;32m   1186\u001b[0m         \u001b[0mticks_to_draw\u001b[0m \u001b[0;34m=\u001b[0m \u001b[0mself\u001b[0m\u001b[0;34m.\u001b[0m\u001b[0m_update_ticks\u001b[0m\u001b[0;34m(\u001b[0m\u001b[0;34m)\u001b[0m\u001b[0;34m\u001b[0m\u001b[0;34m\u001b[0m\u001b[0m\n\u001b[1;32m   1187\u001b[0m \u001b[0;34m\u001b[0m\u001b[0m\n\u001b[0;32m-> 1188\u001b[0;31m         \u001b[0mself\u001b[0m\u001b[0;34m.\u001b[0m\u001b[0m_update_label_position\u001b[0m\u001b[0;34m(\u001b[0m\u001b[0mrenderer\u001b[0m\u001b[0;34m)\u001b[0m\u001b[0;34m\u001b[0m\u001b[0;34m\u001b[0m\u001b[0m\n\u001b[0m\u001b[1;32m   1189\u001b[0m \u001b[0;34m\u001b[0m\u001b[0m\n\u001b[1;32m   1190\u001b[0m         \u001b[0;31m# go back to just this axis's tick labels\u001b[0m\u001b[0;34m\u001b[0m\u001b[0;34m\u001b[0m\u001b[0;34m\u001b[0m\u001b[0m\n",
            "\u001b[0;32m/usr/local/lib/python3.7/dist-packages/matplotlib/axis.py\u001b[0m in \u001b[0;36m_update_label_position\u001b[0;34m(self, renderer)\u001b[0m\n\u001b[1;32m   2019\u001b[0m         \u001b[0;31m# get bounding boxes for this axis and any siblings\u001b[0m\u001b[0;34m\u001b[0m\u001b[0;34m\u001b[0m\u001b[0;34m\u001b[0m\u001b[0m\n\u001b[1;32m   2020\u001b[0m         \u001b[0;31m# that have been set by `fig.align_xlabels()`\u001b[0m\u001b[0;34m\u001b[0m\u001b[0;34m\u001b[0m\u001b[0;34m\u001b[0m\u001b[0m\n\u001b[0;32m-> 2021\u001b[0;31m         \u001b[0mbboxes\u001b[0m\u001b[0;34m,\u001b[0m \u001b[0mbboxes2\u001b[0m \u001b[0;34m=\u001b[0m \u001b[0mself\u001b[0m\u001b[0;34m.\u001b[0m\u001b[0m_get_tick_boxes_siblings\u001b[0m\u001b[0;34m(\u001b[0m\u001b[0mrenderer\u001b[0m\u001b[0;34m=\u001b[0m\u001b[0mrenderer\u001b[0m\u001b[0;34m)\u001b[0m\u001b[0;34m\u001b[0m\u001b[0;34m\u001b[0m\u001b[0m\n\u001b[0m\u001b[1;32m   2022\u001b[0m \u001b[0;34m\u001b[0m\u001b[0m\n\u001b[1;32m   2023\u001b[0m         \u001b[0mx\u001b[0m\u001b[0;34m,\u001b[0m \u001b[0my\u001b[0m \u001b[0;34m=\u001b[0m \u001b[0mself\u001b[0m\u001b[0;34m.\u001b[0m\u001b[0mlabel\u001b[0m\u001b[0;34m.\u001b[0m\u001b[0mget_position\u001b[0m\u001b[0;34m(\u001b[0m\u001b[0;34m)\u001b[0m\u001b[0;34m\u001b[0m\u001b[0;34m\u001b[0m\u001b[0m\n",
            "\u001b[0;32m/usr/local/lib/python3.7/dist-packages/matplotlib/axis.py\u001b[0m in \u001b[0;36m_get_tick_boxes_siblings\u001b[0;34m(self, renderer)\u001b[0m\n\u001b[1;32m   2003\u001b[0m         \u001b[0;31m# if we want to align labels from other axes:\u001b[0m\u001b[0;34m\u001b[0m\u001b[0;34m\u001b[0m\u001b[0;34m\u001b[0m\u001b[0m\n\u001b[1;32m   2004\u001b[0m         \u001b[0;32mfor\u001b[0m \u001b[0mnn\u001b[0m\u001b[0;34m,\u001b[0m \u001b[0maxx\u001b[0m \u001b[0;32min\u001b[0m \u001b[0menumerate\u001b[0m\u001b[0;34m(\u001b[0m\u001b[0mgrp\u001b[0m\u001b[0;34m.\u001b[0m\u001b[0mget_siblings\u001b[0m\u001b[0;34m(\u001b[0m\u001b[0mself\u001b[0m\u001b[0;34m.\u001b[0m\u001b[0maxes\u001b[0m\u001b[0;34m)\u001b[0m\u001b[0;34m)\u001b[0m\u001b[0;34m:\u001b[0m\u001b[0;34m\u001b[0m\u001b[0;34m\u001b[0m\u001b[0m\n\u001b[0;32m-> 2005\u001b[0;31m             \u001b[0mticks_to_draw\u001b[0m \u001b[0;34m=\u001b[0m \u001b[0maxx\u001b[0m\u001b[0;34m.\u001b[0m\u001b[0mxaxis\u001b[0m\u001b[0;34m.\u001b[0m\u001b[0m_update_ticks\u001b[0m\u001b[0;34m(\u001b[0m\u001b[0;34m)\u001b[0m\u001b[0;34m\u001b[0m\u001b[0;34m\u001b[0m\u001b[0m\n\u001b[0m\u001b[1;32m   2006\u001b[0m             \u001b[0mtlb\u001b[0m\u001b[0;34m,\u001b[0m \u001b[0mtlb2\u001b[0m \u001b[0;34m=\u001b[0m \u001b[0maxx\u001b[0m\u001b[0;34m.\u001b[0m\u001b[0mxaxis\u001b[0m\u001b[0;34m.\u001b[0m\u001b[0m_get_tick_bboxes\u001b[0m\u001b[0;34m(\u001b[0m\u001b[0mticks_to_draw\u001b[0m\u001b[0;34m,\u001b[0m \u001b[0mrenderer\u001b[0m\u001b[0;34m)\u001b[0m\u001b[0;34m\u001b[0m\u001b[0;34m\u001b[0m\u001b[0m\n\u001b[1;32m   2007\u001b[0m             \u001b[0mbboxes\u001b[0m\u001b[0;34m.\u001b[0m\u001b[0mextend\u001b[0m\u001b[0;34m(\u001b[0m\u001b[0mtlb\u001b[0m\u001b[0;34m)\u001b[0m\u001b[0;34m\u001b[0m\u001b[0;34m\u001b[0m\u001b[0m\n",
            "\u001b[0;32m/usr/local/lib/python3.7/dist-packages/matplotlib/axis.py\u001b[0m in \u001b[0;36m_update_ticks\u001b[0;34m(self)\u001b[0m\n\u001b[1;32m   1104\u001b[0m         \u001b[0mmajor_labels\u001b[0m \u001b[0;34m=\u001b[0m \u001b[0mself\u001b[0m\u001b[0;34m.\u001b[0m\u001b[0mmajor\u001b[0m\u001b[0;34m.\u001b[0m\u001b[0mformatter\u001b[0m\u001b[0;34m.\u001b[0m\u001b[0mformat_ticks\u001b[0m\u001b[0;34m(\u001b[0m\u001b[0mmajor_locs\u001b[0m\u001b[0;34m)\u001b[0m\u001b[0;34m\u001b[0m\u001b[0;34m\u001b[0m\u001b[0m\n\u001b[1;32m   1105\u001b[0m         \u001b[0mmajor_ticks\u001b[0m \u001b[0;34m=\u001b[0m \u001b[0mself\u001b[0m\u001b[0;34m.\u001b[0m\u001b[0mget_major_ticks\u001b[0m\u001b[0;34m(\u001b[0m\u001b[0mlen\u001b[0m\u001b[0;34m(\u001b[0m\u001b[0mmajor_locs\u001b[0m\u001b[0;34m)\u001b[0m\u001b[0;34m)\u001b[0m\u001b[0;34m\u001b[0m\u001b[0;34m\u001b[0m\u001b[0m\n\u001b[0;32m-> 1106\u001b[0;31m         \u001b[0mself\u001b[0m\u001b[0;34m.\u001b[0m\u001b[0mmajor\u001b[0m\u001b[0;34m.\u001b[0m\u001b[0mformatter\u001b[0m\u001b[0;34m.\u001b[0m\u001b[0mset_locs\u001b[0m\u001b[0;34m(\u001b[0m\u001b[0mmajor_locs\u001b[0m\u001b[0;34m)\u001b[0m\u001b[0;34m\u001b[0m\u001b[0;34m\u001b[0m\u001b[0m\n\u001b[0m\u001b[1;32m   1107\u001b[0m         \u001b[0;32mfor\u001b[0m \u001b[0mtick\u001b[0m\u001b[0;34m,\u001b[0m \u001b[0mloc\u001b[0m\u001b[0;34m,\u001b[0m \u001b[0mlabel\u001b[0m \u001b[0;32min\u001b[0m \u001b[0mzip\u001b[0m\u001b[0;34m(\u001b[0m\u001b[0mmajor_ticks\u001b[0m\u001b[0;34m,\u001b[0m \u001b[0mmajor_locs\u001b[0m\u001b[0;34m,\u001b[0m \u001b[0mmajor_labels\u001b[0m\u001b[0;34m)\u001b[0m\u001b[0;34m:\u001b[0m\u001b[0;34m\u001b[0m\u001b[0;34m\u001b[0m\u001b[0m\n\u001b[1;32m   1108\u001b[0m             \u001b[0mtick\u001b[0m\u001b[0;34m.\u001b[0m\u001b[0mupdate_position\u001b[0m\u001b[0;34m(\u001b[0m\u001b[0mloc\u001b[0m\u001b[0;34m)\u001b[0m\u001b[0;34m\u001b[0m\u001b[0;34m\u001b[0m\u001b[0m\n",
            "\u001b[0;32m/usr/local/lib/python3.7/dist-packages/matplotlib/ticker.py\u001b[0m in \u001b[0;36mset_locs\u001b[0;34m(self, locs)\u001b[0m\n\u001b[1;32m    678\u001b[0m             \u001b[0;32mif\u001b[0m \u001b[0mself\u001b[0m\u001b[0;34m.\u001b[0m\u001b[0m_useOffset\u001b[0m\u001b[0;34m:\u001b[0m\u001b[0;34m\u001b[0m\u001b[0;34m\u001b[0m\u001b[0m\n\u001b[1;32m    679\u001b[0m                 \u001b[0mself\u001b[0m\u001b[0;34m.\u001b[0m\u001b[0m_compute_offset\u001b[0m\u001b[0;34m(\u001b[0m\u001b[0;34m)\u001b[0m\u001b[0;34m\u001b[0m\u001b[0;34m\u001b[0m\u001b[0m\n\u001b[0;32m--> 680\u001b[0;31m             \u001b[0mself\u001b[0m\u001b[0;34m.\u001b[0m\u001b[0m_set_order_of_magnitude\u001b[0m\u001b[0;34m(\u001b[0m\u001b[0;34m)\u001b[0m\u001b[0;34m\u001b[0m\u001b[0;34m\u001b[0m\u001b[0m\n\u001b[0m\u001b[1;32m    681\u001b[0m             \u001b[0mself\u001b[0m\u001b[0;34m.\u001b[0m\u001b[0m_set_format\u001b[0m\u001b[0;34m(\u001b[0m\u001b[0;34m)\u001b[0m\u001b[0;34m\u001b[0m\u001b[0;34m\u001b[0m\u001b[0m\n\u001b[1;32m    682\u001b[0m \u001b[0;34m\u001b[0m\u001b[0m\n",
            "\u001b[0;32m/usr/local/lib/python3.7/dist-packages/matplotlib/ticker.py\u001b[0m in \u001b[0;36m_set_order_of_magnitude\u001b[0;34m(self)\u001b[0m\n\u001b[1;32m    734\u001b[0m         \u001b[0mvmin\u001b[0m\u001b[0;34m,\u001b[0m \u001b[0mvmax\u001b[0m \u001b[0;34m=\u001b[0m \u001b[0msorted\u001b[0m\u001b[0;34m(\u001b[0m\u001b[0mself\u001b[0m\u001b[0;34m.\u001b[0m\u001b[0maxis\u001b[0m\u001b[0;34m.\u001b[0m\u001b[0mget_view_interval\u001b[0m\u001b[0;34m(\u001b[0m\u001b[0;34m)\u001b[0m\u001b[0;34m)\u001b[0m\u001b[0;34m\u001b[0m\u001b[0;34m\u001b[0m\u001b[0m\n\u001b[1;32m    735\u001b[0m         \u001b[0mlocs\u001b[0m \u001b[0;34m=\u001b[0m \u001b[0mnp\u001b[0m\u001b[0;34m.\u001b[0m\u001b[0masarray\u001b[0m\u001b[0;34m(\u001b[0m\u001b[0mself\u001b[0m\u001b[0;34m.\u001b[0m\u001b[0mlocs\u001b[0m\u001b[0;34m)\u001b[0m\u001b[0;34m\u001b[0m\u001b[0;34m\u001b[0m\u001b[0m\n\u001b[0;32m--> 736\u001b[0;31m         \u001b[0mlocs\u001b[0m \u001b[0;34m=\u001b[0m \u001b[0mlocs\u001b[0m\u001b[0;34m[\u001b[0m\u001b[0;34m(\u001b[0m\u001b[0mvmin\u001b[0m \u001b[0;34m<=\u001b[0m \u001b[0mlocs\u001b[0m\u001b[0;34m)\u001b[0m \u001b[0;34m&\u001b[0m \u001b[0;34m(\u001b[0m\u001b[0mlocs\u001b[0m \u001b[0;34m<=\u001b[0m \u001b[0mvmax\u001b[0m\u001b[0;34m)\u001b[0m\u001b[0;34m]\u001b[0m\u001b[0;34m\u001b[0m\u001b[0;34m\u001b[0m\u001b[0m\n\u001b[0m\u001b[1;32m    737\u001b[0m         \u001b[0mlocs\u001b[0m \u001b[0;34m=\u001b[0m \u001b[0mnp\u001b[0m\u001b[0;34m.\u001b[0m\u001b[0mabs\u001b[0m\u001b[0;34m(\u001b[0m\u001b[0mlocs\u001b[0m\u001b[0;34m)\u001b[0m\u001b[0;34m\u001b[0m\u001b[0;34m\u001b[0m\u001b[0m\n\u001b[1;32m    738\u001b[0m         \u001b[0;32mif\u001b[0m \u001b[0;32mnot\u001b[0m \u001b[0mlen\u001b[0m\u001b[0;34m(\u001b[0m\u001b[0mlocs\u001b[0m\u001b[0;34m)\u001b[0m\u001b[0;34m:\u001b[0m\u001b[0;34m\u001b[0m\u001b[0;34m\u001b[0m\u001b[0m\n",
            "\u001b[0;31mKeyboardInterrupt\u001b[0m: "
          ]
        },
        {
          "output_type": "display_data",
          "data": {
            "image/png": "[encoded data removed]",
            "text/plain": [
              "<Figure size 2520x2520 with 196 Axes>"
            ]
          },
          "metadata": {
            "tags": [],
            "needs_background": "light"
          }
        }
      ]
    },
    {
      "cell_type": "markdown",
      "metadata": {
        "id": "eTI_S9VcQeT2"
      },
      "source": [
        "Coordenadas paralelas"
      ]
    },
    {
      "cell_type": "code",
      "metadata": {
        "colab": {
          "base_uri": "https://localhost:8080/",
          "height": 626
        },
        "id": "zJ2jxycJQf-p",
        "outputId": "8da758b7-3695-4540-fe1e-14e8204164c4"
      },
      "source": [
        "import matplotlib.pyplot as plt\n",
        "import pandas as pd\n",
        "from pandas.plotting import parallel_coordinates\n",
        "\n",
        "parallel_coordinates(data, \"DEPTO_CASO\")\n",
        "plt.xticks(rotation=90)\n",
        "plt.show()"
      ],
      "execution_count": null,
      "outputs": [
        {
          "output_type": "error",
          "ename": "ValueError",
          "evalue": "ignored",
          "traceback": [
            "\u001b[0;31m---------------------------------------------------------------------------\u001b[0m",
            "\u001b[0;31mValueError\u001b[0m                                Traceback (most recent call last)",
            "\u001b[0;32m<ipython-input-43-2636cae4321e>\u001b[0m in \u001b[0;36m<module>\u001b[0;34m()\u001b[0m\n\u001b[1;32m      3\u001b[0m \u001b[0;32mfrom\u001b[0m \u001b[0mpandas\u001b[0m\u001b[0;34m.\u001b[0m\u001b[0mplotting\u001b[0m \u001b[0;32mimport\u001b[0m \u001b[0mparallel_coordinates\u001b[0m\u001b[0;34m\u001b[0m\u001b[0;34m\u001b[0m\u001b[0m\n\u001b[1;32m      4\u001b[0m \u001b[0;34m\u001b[0m\u001b[0m\n\u001b[0;32m----> 5\u001b[0;31m \u001b[0mparallel_coordinates\u001b[0m\u001b[0;34m(\u001b[0m\u001b[0mdata\u001b[0m\u001b[0;34m,\u001b[0m \u001b[0;34m\"DEPTO_CASO\"\u001b[0m\u001b[0;34m)\u001b[0m\u001b[0;34m\u001b[0m\u001b[0;34m\u001b[0m\u001b[0m\n\u001b[0m\u001b[1;32m      6\u001b[0m \u001b[0mplt\u001b[0m\u001b[0;34m.\u001b[0m\u001b[0mxticks\u001b[0m\u001b[0;34m(\u001b[0m\u001b[0mrotation\u001b[0m\u001b[0;34m=\u001b[0m\u001b[0;36m90\u001b[0m\u001b[0;34m)\u001b[0m\u001b[0;34m\u001b[0m\u001b[0;34m\u001b[0m\u001b[0m\n\u001b[1;32m      7\u001b[0m \u001b[0mplt\u001b[0m\u001b[0;34m.\u001b[0m\u001b[0mshow\u001b[0m\u001b[0;34m(\u001b[0m\u001b[0;34m)\u001b[0m\u001b[0;34m\u001b[0m\u001b[0;34m\u001b[0m\u001b[0m\n",
            "\u001b[0;32m/usr/local/lib/python3.7/dist-packages/pandas/plotting/_misc.py\u001b[0m in \u001b[0;36mparallel_coordinates\u001b[0;34m(frame, class_column, cols, ax, color, use_columns, xticks, colormap, axvlines, axvlines_kwds, sort_labels, **kwargs)\u001b[0m\n\u001b[1;32m    407\u001b[0m         \u001b[0maxvlines_kwds\u001b[0m\u001b[0;34m=\u001b[0m\u001b[0maxvlines_kwds\u001b[0m\u001b[0;34m,\u001b[0m\u001b[0;34m\u001b[0m\u001b[0;34m\u001b[0m\u001b[0m\n\u001b[1;32m    408\u001b[0m         \u001b[0msort_labels\u001b[0m\u001b[0;34m=\u001b[0m\u001b[0msort_labels\u001b[0m\u001b[0;34m,\u001b[0m\u001b[0;34m\u001b[0m\u001b[0;34m\u001b[0m\u001b[0m\n\u001b[0;32m--> 409\u001b[0;31m         \u001b[0;34m**\u001b[0m\u001b[0mkwargs\u001b[0m\u001b[0;34m,\u001b[0m\u001b[0;34m\u001b[0m\u001b[0;34m\u001b[0m\u001b[0m\n\u001b[0m\u001b[1;32m    410\u001b[0m     )\n\u001b[1;32m    411\u001b[0m \u001b[0;34m\u001b[0m\u001b[0m\n",
            "\u001b[0;32m/usr/local/lib/python3.7/dist-packages/pandas/plotting/_matplotlib/misc.py\u001b[0m in \u001b[0;36mparallel_coordinates\u001b[0;34m(frame, class_column, cols, ax, color, use_columns, xticks, colormap, axvlines, axvlines_kwds, sort_labels, **kwds)\u001b[0m\n\u001b[1;32m    370\u001b[0m         \u001b[0;32mif\u001b[0m \u001b[0mlabel\u001b[0m \u001b[0;32mnot\u001b[0m \u001b[0;32min\u001b[0m \u001b[0mused_legends\u001b[0m\u001b[0;34m:\u001b[0m\u001b[0;34m\u001b[0m\u001b[0;34m\u001b[0m\u001b[0m\n\u001b[1;32m    371\u001b[0m             \u001b[0mused_legends\u001b[0m\u001b[0;34m.\u001b[0m\u001b[0madd\u001b[0m\u001b[0;34m(\u001b[0m\u001b[0mlabel\u001b[0m\u001b[0;34m)\u001b[0m\u001b[0;34m\u001b[0m\u001b[0;34m\u001b[0m\u001b[0m\n\u001b[0;32m--> 372\u001b[0;31m             \u001b[0max\u001b[0m\u001b[0;34m.\u001b[0m\u001b[0mplot\u001b[0m\u001b[0;34m(\u001b[0m\u001b[0mx\u001b[0m\u001b[0;34m,\u001b[0m \u001b[0my\u001b[0m\u001b[0;34m,\u001b[0m \u001b[0mcolor\u001b[0m\u001b[0;34m=\u001b[0m\u001b[0mcolors\u001b[0m\u001b[0;34m[\u001b[0m\u001b[0mkls\u001b[0m\u001b[0;34m]\u001b[0m\u001b[0;34m,\u001b[0m \u001b[0mlabel\u001b[0m\u001b[0;34m=\u001b[0m\u001b[0mlabel\u001b[0m\u001b[0;34m,\u001b[0m \u001b[0;34m**\u001b[0m\u001b[0mkwds\u001b[0m\u001b[0;34m)\u001b[0m\u001b[0;34m\u001b[0m\u001b[0;34m\u001b[0m\u001b[0m\n\u001b[0m\u001b[1;32m    373\u001b[0m         \u001b[0;32melse\u001b[0m\u001b[0;34m:\u001b[0m\u001b[0;34m\u001b[0m\u001b[0;34m\u001b[0m\u001b[0m\n\u001b[1;32m    374\u001b[0m             \u001b[0max\u001b[0m\u001b[0;34m.\u001b[0m\u001b[0mplot\u001b[0m\u001b[0;34m(\u001b[0m\u001b[0mx\u001b[0m\u001b[0;34m,\u001b[0m \u001b[0my\u001b[0m\u001b[0;34m,\u001b[0m \u001b[0mcolor\u001b[0m\u001b[0;34m=\u001b[0m\u001b[0mcolors\u001b[0m\u001b[0;34m[\u001b[0m\u001b[0mkls\u001b[0m\u001b[0;34m]\u001b[0m\u001b[0;34m,\u001b[0m \u001b[0;34m**\u001b[0m\u001b[0mkwds\u001b[0m\u001b[0;34m)\u001b[0m\u001b[0;34m\u001b[0m\u001b[0;34m\u001b[0m\u001b[0m\n",
            "\u001b[0;32m/usr/local/lib/python3.7/dist-packages/matplotlib/axes/_axes.py\u001b[0m in \u001b[0;36mplot\u001b[0;34m(self, scalex, scaley, data, *args, **kwargs)\u001b[0m\n\u001b[1;32m   1647\u001b[0m         \u001b[0mlines\u001b[0m \u001b[0;34m=\u001b[0m \u001b[0;34m[\u001b[0m\u001b[0;34m*\u001b[0m\u001b[0mself\u001b[0m\u001b[0;34m.\u001b[0m\u001b[0m_get_lines\u001b[0m\u001b[0;34m(\u001b[0m\u001b[0;34m*\u001b[0m\u001b[0margs\u001b[0m\u001b[0;34m,\u001b[0m \u001b[0mdata\u001b[0m\u001b[0;34m=\u001b[0m\u001b[0mdata\u001b[0m\u001b[0;34m,\u001b[0m \u001b[0;34m**\u001b[0m\u001b[0mkwargs\u001b[0m\u001b[0;34m)\u001b[0m\u001b[0;34m]\u001b[0m\u001b[0;34m\u001b[0m\u001b[0;34m\u001b[0m\u001b[0m\n\u001b[1;32m   1648\u001b[0m         \u001b[0;32mfor\u001b[0m \u001b[0mline\u001b[0m \u001b[0;32min\u001b[0m \u001b[0mlines\u001b[0m\u001b[0;34m:\u001b[0m\u001b[0;34m\u001b[0m\u001b[0;34m\u001b[0m\u001b[0m\n\u001b[0;32m-> 1649\u001b[0;31m             \u001b[0mself\u001b[0m\u001b[0;34m.\u001b[0m\u001b[0madd_line\u001b[0m\u001b[0;34m(\u001b[0m\u001b[0mline\u001b[0m\u001b[0;34m)\u001b[0m\u001b[0;34m\u001b[0m\u001b[0;34m\u001b[0m\u001b[0m\n\u001b[0m\u001b[1;32m   1650\u001b[0m         \u001b[0mself\u001b[0m\u001b[0;34m.\u001b[0m\u001b[0m_request_autoscale_view\u001b[0m\u001b[0;34m(\u001b[0m\u001b[0mscalex\u001b[0m\u001b[0;34m=\u001b[0m\u001b[0mscalex\u001b[0m\u001b[0;34m,\u001b[0m \u001b[0mscaley\u001b[0m\u001b[0;34m=\u001b[0m\u001b[0mscaley\u001b[0m\u001b[0;34m)\u001b[0m\u001b[0;34m\u001b[0m\u001b[0;34m\u001b[0m\u001b[0m\n\u001b[1;32m   1651\u001b[0m         \u001b[0;32mreturn\u001b[0m \u001b[0mlines\u001b[0m\u001b[0;34m\u001b[0m\u001b[0;34m\u001b[0m\u001b[0m\n",
            "\u001b[0;32m/usr/local/lib/python3.7/dist-packages/matplotlib/axes/_base.py\u001b[0m in \u001b[0;36madd_line\u001b[0;34m(self, line)\u001b[0m\n\u001b[1;32m   1848\u001b[0m             \u001b[0mline\u001b[0m\u001b[0;34m.\u001b[0m\u001b[0mset_clip_path\u001b[0m\u001b[0;34m(\u001b[0m\u001b[0mself\u001b[0m\u001b[0;34m.\u001b[0m\u001b[0mpatch\u001b[0m\u001b[0;34m)\u001b[0m\u001b[0;34m\u001b[0m\u001b[0;34m\u001b[0m\u001b[0m\n\u001b[1;32m   1849\u001b[0m \u001b[0;34m\u001b[0m\u001b[0m\n\u001b[0;32m-> 1850\u001b[0;31m         \u001b[0mself\u001b[0m\u001b[0;34m.\u001b[0m\u001b[0m_update_line_limits\u001b[0m\u001b[0;34m(\u001b[0m\u001b[0mline\u001b[0m\u001b[0;34m)\u001b[0m\u001b[0;34m\u001b[0m\u001b[0;34m\u001b[0m\u001b[0m\n\u001b[0m\u001b[1;32m   1851\u001b[0m         \u001b[0;32mif\u001b[0m \u001b[0;32mnot\u001b[0m \u001b[0mline\u001b[0m\u001b[0;34m.\u001b[0m\u001b[0mget_label\u001b[0m\u001b[0;34m(\u001b[0m\u001b[0;34m)\u001b[0m\u001b[0;34m:\u001b[0m\u001b[0;34m\u001b[0m\u001b[0;34m\u001b[0m\u001b[0m\n\u001b[1;32m   1852\u001b[0m             \u001b[0mline\u001b[0m\u001b[0;34m.\u001b[0m\u001b[0mset_label\u001b[0m\u001b[0;34m(\u001b[0m\u001b[0;34m'_line%d'\u001b[0m \u001b[0;34m%\u001b[0m \u001b[0mlen\u001b[0m\u001b[0;34m(\u001b[0m\u001b[0mself\u001b[0m\u001b[0;34m.\u001b[0m\u001b[0mlines\u001b[0m\u001b[0;34m)\u001b[0m\u001b[0;34m)\u001b[0m\u001b[0;34m\u001b[0m\u001b[0;34m\u001b[0m\u001b[0m\n",
            "\u001b[0;32m/usr/local/lib/python3.7/dist-packages/matplotlib/axes/_base.py\u001b[0m in \u001b[0;36m_update_line_limits\u001b[0;34m(self, line)\u001b[0m\n\u001b[1;32m   1870\u001b[0m         \u001b[0mFigures\u001b[0m \u001b[0mout\u001b[0m \u001b[0mthe\u001b[0m \u001b[0mdata\u001b[0m \u001b[0mlimit\u001b[0m \u001b[0mof\u001b[0m \u001b[0mthe\u001b[0m \u001b[0mgiven\u001b[0m \u001b[0mline\u001b[0m\u001b[0;34m,\u001b[0m \u001b[0mupdating\u001b[0m \u001b[0mself\u001b[0m\u001b[0;34m.\u001b[0m\u001b[0mdataLim\u001b[0m\u001b[0;34m.\u001b[0m\u001b[0;34m\u001b[0m\u001b[0;34m\u001b[0m\u001b[0m\n\u001b[1;32m   1871\u001b[0m         \"\"\"\n\u001b[0;32m-> 1872\u001b[0;31m         \u001b[0mpath\u001b[0m \u001b[0;34m=\u001b[0m \u001b[0mline\u001b[0m\u001b[0;34m.\u001b[0m\u001b[0mget_path\u001b[0m\u001b[0;34m(\u001b[0m\u001b[0;34m)\u001b[0m\u001b[0;34m\u001b[0m\u001b[0;34m\u001b[0m\u001b[0m\n\u001b[0m\u001b[1;32m   1873\u001b[0m         \u001b[0;32mif\u001b[0m \u001b[0mpath\u001b[0m\u001b[0;34m.\u001b[0m\u001b[0mvertices\u001b[0m\u001b[0;34m.\u001b[0m\u001b[0msize\u001b[0m \u001b[0;34m==\u001b[0m \u001b[0;36m0\u001b[0m\u001b[0;34m:\u001b[0m\u001b[0;34m\u001b[0m\u001b[0;34m\u001b[0m\u001b[0m\n\u001b[1;32m   1874\u001b[0m             \u001b[0;32mreturn\u001b[0m\u001b[0;34m\u001b[0m\u001b[0;34m\u001b[0m\u001b[0m\n",
            "\u001b[0;32m/usr/local/lib/python3.7/dist-packages/matplotlib/lines.py\u001b[0m in \u001b[0;36mget_path\u001b[0;34m(self)\u001b[0m\n\u001b[1;32m   1025\u001b[0m         \"\"\"\n\u001b[1;32m   1026\u001b[0m         \u001b[0;32mif\u001b[0m \u001b[0mself\u001b[0m\u001b[0;34m.\u001b[0m\u001b[0m_invalidy\u001b[0m \u001b[0;32mor\u001b[0m \u001b[0mself\u001b[0m\u001b[0;34m.\u001b[0m\u001b[0m_invalidx\u001b[0m\u001b[0;34m:\u001b[0m\u001b[0;34m\u001b[0m\u001b[0;34m\u001b[0m\u001b[0m\n\u001b[0;32m-> 1027\u001b[0;31m             \u001b[0mself\u001b[0m\u001b[0;34m.\u001b[0m\u001b[0mrecache\u001b[0m\u001b[0;34m(\u001b[0m\u001b[0;34m)\u001b[0m\u001b[0;34m\u001b[0m\u001b[0;34m\u001b[0m\u001b[0m\n\u001b[0m\u001b[1;32m   1028\u001b[0m         \u001b[0;32mreturn\u001b[0m \u001b[0mself\u001b[0m\u001b[0;34m.\u001b[0m\u001b[0m_path\u001b[0m\u001b[0;34m\u001b[0m\u001b[0;34m\u001b[0m\u001b[0m\n\u001b[1;32m   1029\u001b[0m \u001b[0;34m\u001b[0m\u001b[0m\n",
            "\u001b[0;32m/usr/local/lib/python3.7/dist-packages/matplotlib/lines.py\u001b[0m in \u001b[0;36mrecache\u001b[0;34m(self, always)\u001b[0m\n\u001b[1;32m    673\u001b[0m         \u001b[0;32mif\u001b[0m \u001b[0malways\u001b[0m \u001b[0;32mor\u001b[0m \u001b[0mself\u001b[0m\u001b[0;34m.\u001b[0m\u001b[0m_invalidy\u001b[0m\u001b[0;34m:\u001b[0m\u001b[0;34m\u001b[0m\u001b[0;34m\u001b[0m\u001b[0m\n\u001b[1;32m    674\u001b[0m             \u001b[0myconv\u001b[0m \u001b[0;34m=\u001b[0m \u001b[0mself\u001b[0m\u001b[0;34m.\u001b[0m\u001b[0mconvert_yunits\u001b[0m\u001b[0;34m(\u001b[0m\u001b[0mself\u001b[0m\u001b[0;34m.\u001b[0m\u001b[0m_yorig\u001b[0m\u001b[0;34m)\u001b[0m\u001b[0;34m\u001b[0m\u001b[0;34m\u001b[0m\u001b[0m\n\u001b[0;32m--> 675\u001b[0;31m             \u001b[0my\u001b[0m \u001b[0;34m=\u001b[0m \u001b[0m_to_unmasked_float_array\u001b[0m\u001b[0;34m(\u001b[0m\u001b[0myconv\u001b[0m\u001b[0;34m)\u001b[0m\u001b[0;34m.\u001b[0m\u001b[0mravel\u001b[0m\u001b[0;34m(\u001b[0m\u001b[0;34m)\u001b[0m\u001b[0;34m\u001b[0m\u001b[0;34m\u001b[0m\u001b[0m\n\u001b[0m\u001b[1;32m    676\u001b[0m         \u001b[0;32melse\u001b[0m\u001b[0;34m:\u001b[0m\u001b[0;34m\u001b[0m\u001b[0;34m\u001b[0m\u001b[0m\n\u001b[1;32m    677\u001b[0m             \u001b[0my\u001b[0m \u001b[0;34m=\u001b[0m \u001b[0mself\u001b[0m\u001b[0;34m.\u001b[0m\u001b[0m_y\u001b[0m\u001b[0;34m\u001b[0m\u001b[0;34m\u001b[0m\u001b[0m\n",
            "\u001b[0;32m/usr/local/lib/python3.7/dist-packages/matplotlib/cbook/__init__.py\u001b[0m in \u001b[0;36m_to_unmasked_float_array\u001b[0;34m(x)\u001b[0m\n\u001b[1;32m   1315\u001b[0m         \u001b[0;32mreturn\u001b[0m \u001b[0mnp\u001b[0m\u001b[0;34m.\u001b[0m\u001b[0mma\u001b[0m\u001b[0;34m.\u001b[0m\u001b[0masarray\u001b[0m\u001b[0;34m(\u001b[0m\u001b[0mx\u001b[0m\u001b[0;34m,\u001b[0m \u001b[0mfloat\u001b[0m\u001b[0;34m)\u001b[0m\u001b[0;34m.\u001b[0m\u001b[0mfilled\u001b[0m\u001b[0;34m(\u001b[0m\u001b[0mnp\u001b[0m\u001b[0;34m.\u001b[0m\u001b[0mnan\u001b[0m\u001b[0;34m)\u001b[0m\u001b[0;34m\u001b[0m\u001b[0;34m\u001b[0m\u001b[0m\n\u001b[1;32m   1316\u001b[0m     \u001b[0;32melse\u001b[0m\u001b[0;34m:\u001b[0m\u001b[0;34m\u001b[0m\u001b[0;34m\u001b[0m\u001b[0m\n\u001b[0;32m-> 1317\u001b[0;31m         \u001b[0;32mreturn\u001b[0m \u001b[0mnp\u001b[0m\u001b[0;34m.\u001b[0m\u001b[0masarray\u001b[0m\u001b[0;34m(\u001b[0m\u001b[0mx\u001b[0m\u001b[0;34m,\u001b[0m \u001b[0mfloat\u001b[0m\u001b[0;34m)\u001b[0m\u001b[0;34m\u001b[0m\u001b[0;34m\u001b[0m\u001b[0m\n\u001b[0m\u001b[1;32m   1318\u001b[0m \u001b[0;34m\u001b[0m\u001b[0m\n\u001b[1;32m   1319\u001b[0m \u001b[0;34m\u001b[0m\u001b[0m\n",
            "\u001b[0;32m/usr/local/lib/python3.7/dist-packages/numpy/core/_asarray.py\u001b[0m in \u001b[0;36masarray\u001b[0;34m(a, dtype, order)\u001b[0m\n\u001b[1;32m     81\u001b[0m \u001b[0;34m\u001b[0m\u001b[0m\n\u001b[1;32m     82\u001b[0m     \"\"\"\n\u001b[0;32m---> 83\u001b[0;31m     \u001b[0;32mreturn\u001b[0m \u001b[0marray\u001b[0m\u001b[0;34m(\u001b[0m\u001b[0ma\u001b[0m\u001b[0;34m,\u001b[0m \u001b[0mdtype\u001b[0m\u001b[0;34m,\u001b[0m \u001b[0mcopy\u001b[0m\u001b[0;34m=\u001b[0m\u001b[0;32mFalse\u001b[0m\u001b[0;34m,\u001b[0m \u001b[0morder\u001b[0m\u001b[0;34m=\u001b[0m\u001b[0morder\u001b[0m\u001b[0;34m)\u001b[0m\u001b[0;34m\u001b[0m\u001b[0;34m\u001b[0m\u001b[0m\n\u001b[0m\u001b[1;32m     84\u001b[0m \u001b[0;34m\u001b[0m\u001b[0m\n\u001b[1;32m     85\u001b[0m \u001b[0;34m\u001b[0m\u001b[0m\n",
            "\u001b[0;31mValueError\u001b[0m: could not convert string to float: 'MAGDALENA MEDIO'"
          ]
        },
        {
          "output_type": "display_data",
          "data": {
            "image/png": "[encoded data removed]",
            "text/plain": [
              "<Figure size 432x288 with 1 Axes>"
            ]
          },
          "metadata": {
            "tags": [],
            "needs_background": "light"
          }
        }
      ]
    },
    {
      "cell_type": "markdown",
      "metadata": {
        "id": "sbGtc88ISNf6"
      },
      "source": [
        "Diagrama de estrella"
      ]
    },
    {
      "cell_type": "code",
      "metadata": {
        "colab": {
          "base_uri": "https://localhost:8080/"
        },
        "id": "XqpM2nTeS2Y9",
        "outputId": "8ff2f392-6344-44cd-b2ca-ffe795e85180"
      },
      "source": [
        "# R\n",
        "%load_ext rpy2.ipython"
      ],
      "execution_count": null,
      "outputs": [
        {
          "output_type": "stream",
          "text": [
            "The rpy2.ipython extension is already loaded. To reload it, use:\n",
            "  %reload_ext rpy2.ipython\n"
          ],
          "name": "stdout"
        }
      ]
    },
    {
      "cell_type": "code",
      "metadata": {
        "id": "W49ioyJ0SlyD"
      },
      "source": [
        "\n",
        "# R\n",
        "%%R\n",
        "datar <- read.csv('DATA_C.txt')"
      ],
      "execution_count": null,
      "outputs": []
    },
    {
      "cell_type": "code",
      "metadata": {
        "colab": {
          "base_uri": "https://localhost:8080/"
        },
        "id": "DivifWZuYGFm",
        "outputId": "0834b8d4-5a56-4364-fafe-b9d9cece6885"
      },
      "source": [
        "# Lenguaje R\n",
        "# Lenguaje R\n",
        "%%R\n",
        "table(datar$DEPTO_CASO)"
      ],
      "execution_count": null,
      "outputs": [
        {
          "output_type": "stream",
          "text": [
            "< table of extent 0 >\n"
          ],
          "name": "stdout"
        }
      ]
    },
    {
      "cell_type": "code",
      "metadata": {
        "colab": {
          "base_uri": "https://localhost:8080/",
          "height": 497
        },
        "id": "uFOvoYLOR0qt",
        "outputId": "cbf4d50c-5f73-4e1a-c7d6-ec99b0bafd86"
      },
      "source": [
        "# Lenguaje R\n",
        "\n",
        "%%R\n",
        "\n",
        "datar_sample1<-iris[sample(1:dim(datar)[1],size=9,replace=F),]\n",
        "rownames(datar_sample1)<-paste(as.character(datar_sample1$V5),1:9)\n",
        "stars(datar_sample1[1:4])"
      ],
      "execution_count": null,
      "outputs": [
        {
          "output_type": "display_data",
          "data": {
            "image/png": "[encoded data removed]"
          },
          "metadata": {
            "tags": []
          }
        }
      ]
    },
    {
      "cell_type": "code",
      "metadata": {
        "colab": {
          "base_uri": "https://localhost:8080/"
        },
        "id": "nyEdogb9Tzag",
        "outputId": "0ec7198e-8d27-4c61-8483-75385ad26f9e"
      },
      "source": [
        "%%R\n",
        "install.packages(\"aplpack\")\n",
        "library(\"aplpack\")\n",
        "datar_sample1<-datar[sample(1:dim(datar)[1],size=26,replace=F),]\n",
        "faces(datar_sample1[1:4],face.type=1,labels=datar_sample1$V5)"
      ],
      "execution_count": null,
      "outputs": [
        {
          "output_type": "stream",
          "text": [
            "R[write to console]: Installing package into ‘/usr/local/lib/R/site-library’\n",
            "(as ‘lib’ is unspecified)\n",
            "\n",
            "R[write to console]: trying URL 'https://cran.rstudio.com/src/contrib/aplpack_1.3.3.tar.gz'\n",
            "\n",
            "R[write to console]: Content type 'application/x-gzip'\n",
            "R[write to console]:  length 3434754 bytes (3.3 MB)\n",
            "\n",
            "R[write to console]: =\n",
            "R[write to console]: =\n",
            "R[write to console]: =\n",
            "R[write to console]: =\n",
            "R[write to console]: =\n",
            "R[write to console]: =\n",
            "R[write to console]: =\n",
            "R[write to console]: =\n",
            "R[write to console]: =\n",
            "R[write to console]: =\n",
            "R[write to console]: =\n",
            "R[write to console]: =\n",
            "R[write to console]: =\n",
            "R[write to console]: =\n",
            "R[write to console]: =\n",
            "R[write to console]: =\n",
            "R[write to console]: =\n",
            "R[write to console]: =\n",
            "R[write to console]: =\n",
            "R[write to console]: =\n",
            "R[write to console]: =\n",
            "R[write to console]: =\n",
            "R[write to console]: =\n",
            "R[write to console]: =\n",
            "R[write to console]: =\n",
            "R[write to console]: =\n",
            "R[write to console]: =\n",
            "R[write to console]: =\n",
            "R[write to console]: =\n",
            "R[write to console]: =\n",
            "R[write to console]: =\n",
            "R[write to console]: =\n",
            "R[write to console]: =\n",
            "R[write to console]: =\n",
            "R[write to console]: =\n",
            "R[write to console]: =\n",
            "R[write to console]: =\n",
            "R[write to console]: =\n",
            "R[write to console]: =\n",
            "R[write to console]: =\n",
            "R[write to console]: =\n",
            "R[write to console]: =\n",
            "R[write to console]: =\n",
            "R[write to console]: =\n",
            "R[write to console]: =\n",
            "R[write to console]: =\n",
            "R[write to console]: =\n",
            "R[write to console]: =\n",
            "R[write to console]: =\n",
            "R[write to console]: =\n",
            "R[write to console]: \n",
            "\n",
            "R[write to console]: downloaded 3.3 MB\n",
            "\n",
            "\n",
            "R[write to console]: \n",
            "\n",
            "R[write to console]: \n",
            "R[write to console]: The downloaded source packages are in\n",
            "\t‘/tmp/Rtmp9Pb0he/downloaded_packages’\n",
            "R[write to console]: \n",
            "R[write to console]: \n",
            "\n",
            "R[write to console]: Error in datar_sample1$V5 : $ operator is invalid for atomic vectors\n",
            "\n",
            "R[write to console]: In addition: \n",
            "R[write to console]: There were 12 warnings (use warnings() to see them)\n",
            "R[write to console]: \n",
            "\n"
          ],
          "name": "stderr"
        },
        {
          "output_type": "stream",
          "text": [
            "\n",
            "Error in datar_sample1$V5 : $ operator is invalid for atomic vectors\n"
          ],
          "name": "stdout"
        }
      ]
    },
    {
      "cell_type": "code",
      "metadata": {
        "id": "rJR1TVgXzhjt"
      },
      "source": [
        "#r\n",
        "library('dummy')\n",
        "library('cluster-sim')\n",
        "library('dplyr')\n",
        "datos2 <- select(DATA_C, -REGION, -DEPTO_CASO,-MUNINICIO_CASO,-IdCaso,-DIAH,-MESH,-COD_DANE_MUN,-Modalidad,-DESCRIPCION_PRESUNTO_RESPONSABLE,-BaseOrigen)\n",
        "DATA_C.dummy <- dummy.data.frame(DATA_C)"
      ],
      "execution_count": null,
      "outputs": []
    },
    {
      "cell_type": "code",
      "metadata": {
        "id": "acmcdNzQz0nd"
      },
      "source": [
        "#R\n",
        "#entropia\n",
        "entropy <- function(x){\n",
        "  return(x*log(x))\n",
        "}\n",
        "> entropy <- function(x){\n",
        "+     return(x*log(x))\n",
        "+ }\n",
        "> apply(dataN,2,entropy)->dataN_2\n",
        "There were 30 warnings (use warnings() to see them)\n",
        "> ncol(data_norm) -> m\n",
        "Error in ncol(data_norm) : objeto 'data_norm' no encontrado\n",
        "> ncol(data_N) -> m\n",
        "Error in ncol(data_N) : objeto 'data_N' no encontrado\n",
        "> ncol(dataN) -> m\n",
        "> -1/log(m) -> K\n",
        "> print(K)\n",
        "[1] -0.2940141\n",
        "> K*colSums(dataN_2)->Ej\n"
      ],
      "execution_count": null,
      "outputs": []
    },
    {
      "cell_type": "code",
      "metadata": {
        "id": "YdAb2-32z3jb"
      },
      "source": [
        "#R\n",
        "#PCCA\n",
        "\n",
        "library('FactoMineR'  )\n",
        "res.pca = PCA(DATA_C.dummy[,1:30], scale.unit=TRUE, ncp=10, graph=T)\n"
      ],
      "execution_count": null,
      "outputs": []
    }
  ]
}